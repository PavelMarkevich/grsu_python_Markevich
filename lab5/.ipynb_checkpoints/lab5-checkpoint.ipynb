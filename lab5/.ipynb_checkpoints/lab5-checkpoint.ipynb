{
 "cells": [
  {
   "cell_type": "markdown",
   "metadata": {},
   "source": [
    "# Лабораторная работа 5. Основы анализа данных NumPy и Matplotlib. "
   ]
  },
  {
   "cell_type": "markdown",
   "metadata": {},
   "source": [
    "# Часть 1. NumPy"
   ]
  },
  {
   "cell_type": "markdown",
   "metadata": {},
   "source": [
    "При решении научных задач с помощью численных методов зачастую приходится иметь дело с большими массивами данных в виде массивов и матриц. Стандартные средства Python (например, использование списков для хранения данных и прямой перебор элементов с помощью циклов) плохо подходят для таких задач, так как будут работать крайне медленно, в отличие от программ на компилируемых языках (Fortran, С). Пакет NumPy (http://www.numpy.org/) — это основной пакет, исполь¬зуемый в научных вычислениях в Python. NumPy предназначен для эф¬фективной работы с многомерными массивами, в том числе для эффек¬тивного применения математических операций к массивам и матрицам и их модификации без прямого перечисления элементов массивов. Поми¬мо этого NumPy обладает и другими возможностями — линейная алгеб¬ра, удобный ввод/вывод в файлы, моделирование случайных величин, быстрое преобразование Фурье, объединение программ на Fortran и С и другое (подробнее см. оф. сайт), поэтому важно изучить возможно¬сти данной библиотеки как можно лучше. "
   ]
  },
  {
   "cell_type": "markdown",
   "metadata": {},
   "source": [
    "1.\tВнимательно изучите следующий урок по NumPy: http://scipy.github.io/old-wiki/pages/Tentative_NumPy_Tutorial.\n",
    "2.\tИзучите официальное руководство пользователя https://docs.scipy.org/doc/numpy/user/.\n",
    "3.\tВнимательно изучите Reference Guide (полное описание всех функ¬ций) https://docs.scipy.org/doc/numpy/reference/, именно в нем перечислены все возможности NumPy, этой ссылкой придется регу¬лярно пользоваться.\n"
   ]
  },
  {
   "cell_type": "markdown",
   "metadata": {},
   "source": [
    "Выполните следующие задания (их много, но каждое занимает одну или несколько строк) средствами NumPy (и без использования циклов!)"
   ]
  },
  {
   "cell_type": "markdown",
   "metadata": {},
   "source": [
    "Импортируйте пакет numpy под именем nр"
   ]
  },
  {
   "cell_type": "code",
   "execution_count": null,
   "metadata": {
    "collapsed": true
   },
   "outputs": [],
   "source": []
  },
  {
   "cell_type": "markdown",
   "metadata": {},
   "source": [
    "Импортируйте пакет numpy под именем пр"
   ]
  },
  {
   "cell_type": "code",
   "execution_count": null,
   "metadata": {
    "collapsed": true
   },
   "outputs": [],
   "source": []
  },
  {
   "cell_type": "markdown",
   "metadata": {},
   "source": [
    "Создайте вектор из 10 элементов, заполненный 0, пятый эле-мент которого равен 1."
   ]
  },
  {
   "cell_type": "code",
   "execution_count": null,
   "metadata": {
    "collapsed": true
   },
   "outputs": [],
   "source": []
  },
  {
   "cell_type": "markdown",
   "metadata": {},
   "source": [
    "Создайте вектор из 10 элементов, заполненный 0, пятый эле-мент которого равен 1."
   ]
  },
  {
   "cell_type": "code",
   "execution_count": null,
   "metadata": {
    "collapsed": true
   },
   "outputs": [],
   "source": []
  },
  {
   "cell_type": "markdown",
   "metadata": {},
   "source": [
    "Создайте матрицу 3 на 3 со значениями от 0 до 8."
   ]
  },
  {
   "cell_type": "code",
   "execution_count": null,
   "metadata": {
    "collapsed": true
   },
   "outputs": [],
   "source": []
  },
  {
   "cell_type": "markdown",
   "metadata": {},
   "source": [
    "Найдите индексы ненулевых элементов вектора [1,2,0,0,4,0]."
   ]
  },
  {
   "cell_type": "code",
   "execution_count": null,
   "metadata": {
    "collapsed": true
   },
   "outputs": [],
   "source": []
  },
  {
   "cell_type": "markdown",
   "metadata": {},
   "source": [
    "Объявите единичную матрицу размером 3 на 3."
   ]
  },
  {
   "cell_type": "code",
   "execution_count": null,
   "metadata": {
    "collapsed": true
   },
   "outputs": [],
   "source": []
  },
  {
   "cell_type": "markdown",
   "metadata": {},
   "source": [
    "Создайте массив 10x10x10 из случайных чисел."
   ]
  },
  {
   "cell_type": "code",
   "execution_count": null,
   "metadata": {
    "collapsed": true
   },
   "outputs": [],
   "source": []
  },
  {
   "cell_type": "markdown",
   "metadata": {},
   "source": [
    "Создайте матрицу 8 на 8, заполненную 0 и 1 в шахматном порядке."
   ]
  },
  {
   "cell_type": "code",
   "execution_count": null,
   "metadata": {
    "collapsed": true
   },
   "outputs": [],
   "source": []
  },
  {
   "cell_type": "markdown",
   "metadata": {},
   "source": [
    "Найдите произведение матриц 5x3 на 3x2 (см. линейную ал-гебру) ."
   ]
  },
  {
   "cell_type": "code",
   "execution_count": null,
   "metadata": {
    "collapsed": true
   },
   "outputs": [],
   "source": []
  },
  {
   "cell_type": "markdown",
   "metadata": {},
   "source": [
    "Создайте матрицу, в каждом ряду которой стоят числа от 0 до 8 (используйте сложение матрицы с вектором)."
   ]
  },
  {
   "cell_type": "code",
   "execution_count": null,
   "metadata": {
    "collapsed": true
   },
   "outputs": [],
   "source": []
  },
  {
   "cell_type": "markdown",
   "metadata": {},
   "source": [
    "Создайте вектор длины 1000. Найдите среднее (арифметиче¬ское) значение из этих элементов."
   ]
  },
  {
   "cell_type": "markdown",
   "metadata": {},
   "source": [
    "## Часть 2. Matplotlib"
   ]
  },
  {
   "cell_type": "markdown",
   "metadata": {},
   "source": [
    "Matplotlib (http://matplotlib.org/index.html) — это библиотека для создания графиков в Python. Matplotlib позволяет строить графики любой сложности типографского качества, которые можно вставить в статью. Подробнее о возможностях см. http://matplotlib.org/users/ intro.html. Matplotlib — большой и сложный инструмент, но на прак¬тике в научных вычислениях часто пользуются частью библиотеки matplotlib .pyplot, которая имитирует построение графиков в стиле MATLAB. В качестве до¬статочно полного введения можно прочитать http://matplotlib.org/users/index.html."
   ]
  },
  {
   "cell_type": "markdown",
   "metadata": {},
   "source": [
    "На практике бывает очень трудно помнить все возможности Matplotlib, поэтому часто используют галереи готовых примеров, а потом модифи-цируют их под свои нужды. Примеры таких подборок можно найти по следующим ссылкам:\n",
    "•\thttp://matplotlib.org/gallery.html\n",
    "•\thttp://matplotlib.org/examples/index.html\n",
    "•\thttp://wiki.scipy.org/Cookbook/Matplotlib/\n"
   ]
  },
  {
   "cell_type": "markdown",
   "metadata": {},
   "source": [
    "Еще материалы. \n",
    "1.\tВведение http://matplotlib.org/users/pyplot_tutorial.html\n",
    "2.\tВведение 2 http://www.loria.fr/~rougier/teaching/matplotlib/.\n",
    "Изучите, как создавать графики разных типов http://www.loria. fr/~rougier/teaching/matplotlib/#other-types-of-plots.\n",
    "3.\tИспользование текста в подписях и т.д. http://matplotlib.org/ users/text_intro.html.\n",
    "4.\tИспользование математического текста http: //matplotlib. org/users/ mathtext.html.\n",
    "5.\tСоздание легенды http://matplotlib.org/users/legend_guide.html.\n",
    "6.\tИнтерактивное использование Matplotlib http: //matplotlib. org/\n",
    "users/shell .html (этот пример можно использовать не только в командной строке, но и в коде для наблюдения за изменением гра¬фиков в ходе выполнения программы).\n"
   ]
  },
  {
   "cell_type": "markdown",
   "metadata": {},
   "source": [
    "Постройте поточечный график функции. Сгенерируйте два массива для этого. Один со значениями по возрастанию (для X), второй со случайными значениями (для Y).\n",
    "\n"
   ]
  },
  {
   "cell_type": "code",
   "execution_count": null,
   "metadata": {
    "collapsed": true
   },
   "outputs": [],
   "source": [
    "\n"
   ]
  },
  {
   "cell_type": "markdown",
   "metadata": {},
   "source": [
    "Выберите тригонометрическую функцию $T(x)$, выберите полином $P(x)$. Постройте график функции $T(x)P(x)$."
   ]
  },
  {
   "cell_type": "code",
   "execution_count": null,
   "metadata": {
    "collapsed": true
   },
   "outputs": [],
   "source": []
  },
  {
   "cell_type": "markdown",
   "metadata": {},
   "source": [
    "К графику добавьте: обозначение оси абсцисс, обозначение оси ординат, название графика, вставка легенды (текста в label)."
   ]
  },
  {
   "cell_type": "code",
   "execution_count": null,
   "metadata": {
    "collapsed": true
   },
   "outputs": [],
   "source": []
  },
  {
   "cell_type": "markdown",
   "metadata": {},
   "source": [
    "Измените цвет графика на Ваш любимый. "
   ]
  },
  {
   "cell_type": "code",
   "execution_count": null,
   "metadata": {
    "collapsed": true
   },
   "outputs": [],
   "source": []
  },
  {
   "cell_type": "markdown",
   "metadata": {},
   "source": [
    "Постройте несколько квивых. Первая - цвет красный, сплошная, вторая - цвет синий, штрих-пунктир."
   ]
  },
  {
   "cell_type": "code",
   "execution_count": null,
   "metadata": {
    "collapsed": true
   },
   "outputs": [],
   "source": []
  },
  {
   "cell_type": "markdown",
   "metadata": {},
   "source": [
    "Постройте теже графики, только для первого добавьте маркеры из красных треугольников, для второго синие круглые маркеры."
   ]
  },
  {
   "cell_type": "code",
   "execution_count": null,
   "metadata": {
    "collapsed": true
   },
   "outputs": [],
   "source": []
  },
  {
   "cell_type": "markdown",
   "metadata": {},
   "source": [
    "Запрограмируйте сохранение графика. "
   ]
  },
  {
   "cell_type": "markdown",
   "metadata": {
    "collapsed": true
   },
   "source": [
    "# Часть 3. OpenCV"
   ]
  },
  {
   "cell_type": "markdown",
   "metadata": {
    "collapsed": true
   },
   "source": [
    "Прочитайте картинку используя opencv"
   ]
  },
  {
   "cell_type": "code",
   "execution_count": null,
   "metadata": {
    "collapsed": true
   },
   "outputs": [],
   "source": []
  },
  {
   "cell_type": "markdown",
   "metadata": {},
   "source": [
    "Сделайте ее черно-белой"
   ]
  },
  {
   "cell_type": "code",
   "execution_count": null,
   "metadata": {
    "collapsed": true
   },
   "outputs": [],
   "source": []
  },
  {
   "cell_type": "markdown",
   "metadata": {},
   "source": [
    "Измените размер на 300x300"
   ]
  },
  {
   "cell_type": "code",
   "execution_count": null,
   "metadata": {
    "collapsed": true
   },
   "outputs": [],
   "source": []
  },
  {
   "cell_type": "markdown",
   "metadata": {},
   "source": [
    "Разбейте ее на 2 картинки. Сохраните. "
   ]
  },
  {
   "cell_type": "code",
   "execution_count": null,
   "metadata": {
    "collapsed": true
   },
   "outputs": [],
   "source": []
  },
  {
   "cell_type": "markdown",
   "metadata": {},
   "source": [
    "Прочитайте 2 картинки и склейте. "
   ]
  },
  {
   "cell_type": "code",
   "execution_count": null,
   "metadata": {
    "collapsed": true
   },
   "outputs": [],
   "source": []
  }
 ],
 "metadata": {
  "kernelspec": {
   "display_name": "Python 3",
   "language": "python",
   "name": "python3"
  },
  "language_info": {
   "codemirror_mode": {
    "name": "ipython",
    "version": 3
   },
   "file_extension": ".py",
   "mimetype": "text/x-python",
   "name": "python",
   "nbconvert_exporter": "python",
   "pygments_lexer": "ipython3",
   "version": "3.8.2"
  }
 },
 "nbformat": 4,
 "nbformat_minor": 1
}
