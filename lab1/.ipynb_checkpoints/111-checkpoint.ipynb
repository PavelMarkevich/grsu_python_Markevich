{
 "cells": [
  {
   "cell_type": "markdown",
   "metadata": {},
   "source": [
    "# Задачи к теме \"Основы языка Python\""
   ]
  },
  {
   "cell_type": "code",
   "execution_count": null,
   "metadata": {},
   "outputs": [
    {
     "ename": "Error",
     "evalue": "Jupyter cannot be started. Error attempting to locate jupyter: ",
     "output_type": "error",
     "traceback": [
      "Error: Jupyter cannot be started. Error attempting to locate jupyter:",
      "at A.startServer (c:\\Users\\nikit\\.vscode\\extensions\\ms-python.python-2020.2.64397\\out\\client\\extension.js:1:786120)",
      "at async A.ensureServerAndNotebookImpl (c:\\Users\\nikit\\.vscode\\extensions\\ms-python.python-2020.2.64397\\out\\client\\extension.js:1:785575)",
      "at async A.ensureServerAndNotebook (c:\\Users\\nikit\\.vscode\\extensions\\ms-python.python-2020.2.64397\\out\\client\\extension.js:1:785376)",
      "at async A.submitCode (c:\\Users\\nikit\\.vscode\\extensions\\ms-python.python-2020.2.64397\\out\\client\\extension.js:1:782328)",
      "at async A.reexecuteCell (c:\\Users\\nikit\\.vscode\\extensions\\ms-python.python-2020.2.64397\\out\\client\\extension.js:75:879318)"
     ]
    }
   ],
   "source": [
    "# Python 2 and 3 compatibility\n",
    "# pip install future\n",
    "from __future__ import (absolute_import, division,\n",
    "                        print_function, unicode_literals)\n",
    "from builtins import *"
   ]
  },
  {
   "cell_type": "markdown",
   "metadata": {},
   "source": [
    "## Задача A\n",
    "Вычислите $2^{179}$. Выведите на экран вычисленное значение."
   ]
  },
  {
   "cell_type": "code",
   "execution_count": 1,
   "metadata": {},
   "outputs": [
    {
     "name": "stdout",
     "output_type": "stream",
     "text": [
      "766247770432944429179173513575154591809369561091801088\n"
     ]
    }
   ],
   "source": [
    "## Ваш код здесь\n",
    "print(2**179)"
   ]
  },
  {
   "cell_type": "markdown",
   "metadata": {},
   "source": [
    "## Задача B\n",
    "Вычислите 20!. Выведите на экран вычисленное значение."
   ]
  },
  {
   "cell_type": "code",
   "execution_count": 3,
   "metadata": {},
   "outputs": [
    {
     "data": {
      "text/plain": [
       "2432902008176640000"
      ]
     },
     "execution_count": 3,
     "metadata": {},
     "output_type": "execute_result"
    }
   ],
   "source": [
    "## Ваш код здесь\n",
    "import math\n",
    "math.factorial(20)"
   ]
  },
  {
   "cell_type": "markdown",
   "metadata": {},
   "source": [
    "## Задача C\n",
    "Вычислите длину гипотенузы в прямоугольном треугольнике со сторонами 179 и 971."
   ]
  },
  {
   "cell_type": "code",
   "execution_count": 4,
   "metadata": {},
   "outputs": [
    {
     "name": "stdout",
     "output_type": "stream",
     "text": [
      "987.361129475938\n"
     ]
    }
   ],
   "source": [
    "## Ваш код здесь\n",
    "import math\n",
    "print(math.sqrt(179**2 + 971**2))\n"
   ]
  },
  {
   "cell_type": "markdown",
   "metadata": {},
   "source": [
    "## Задача D\n",
    "Запишите букву 'A' (латинскую, заглавную) 100 раз подряд. Сдайте на проверку программу, которая выводит эту строчку (только буквы, без кавычек)."
   ]
  },
  {
   "cell_type": "code",
   "execution_count": 4,
   "metadata": {},
   "outputs": [
    {
     "name": "stdout",
     "output_type": "stream",
     "text": [
      "AAAAAAAAAAAAAAAAAAAAAAAAAAAAAAAAAAAAAAAAAAAAAAAAAAAAAAAAAAAAAAAAAAAAAAAAAAAAAAAAAAAAAAAAAAAAAAAAAAAA\n"
     ]
    }
   ],
   "source": [
    "## Ваш код здесь\n",
    "print('A' * 100)"
   ]
  },
  {
   "cell_type": "markdown",
   "metadata": {},
   "source": [
    "## Задача E\n",
    "Даны два целых числа. Выведите значение наибольшего из них."
   ]
  },
  {
   "cell_type": "code",
   "execution_count": 4,
   "metadata": {},
   "outputs": [
    {
     "name": "stdout",
     "output_type": "stream",
     "text": [
      "5\n",
      "4\n",
      "Наибольшее =  5\n"
     ]
    }
   ],
   "source": [
    "## Ваш код здесь\n",
    "A = int(input())\n",
    "B = int(input())\n",
    "m = A\n",
    "if B > A:\n",
    "    m = B\n",
    "print('Наибольшее = ',m)"
   ]
  },
  {
   "cell_type": "markdown",
   "metadata": {},
   "source": [
    "## Задача F\n",
    "Даны два целых числа. Программа должна вывести число 1, если первое число больше второго, число 2, если второе больше первого или число 0, если они равны."
   ]
  },
  {
   "cell_type": "code",
   "execution_count": 5,
   "metadata": {},
   "outputs": [
    {
     "name": "stdout",
     "output_type": "stream",
     "text": [
      "5\n",
      "4\n",
      "1\n"
     ]
    }
   ],
   "source": [
    "## Ваш код здесь\n",
    "a = int(input())\n",
    "b = int(input())\n",
    "if a > b:\n",
    "   print(1)\n",
    "elif a < b:\n",
    "   print(2)\n",
    "else:\n",
    "   print(0)"
   ]
  },
  {
   "cell_type": "markdown",
   "metadata": {},
   "source": [
    "## Задача G\n",
    "Число 179 записали 50 раз подряд. Полученное 150-значное число возвели в квадрат. Сколько получилось?"
   ]
  },
  {
   "cell_type": "code",
   "execution_count": 15,
   "metadata": {},
   "outputs": [
    {
     "name": "stdout",
     "output_type": "stream",
     "text": [
      "32105178251324397470543616689762835908982055128201274347420493566639712785858932005078151224297370443516589662735808881955028101174247320393466539612621548475402329256183110036963890817744671598525452379306233160087013940867794721648575502429356283210137063990917844771698625552479406333260187114041\n"
     ]
    }
   ],
   "source": [
    "## Ваш код здесь\n",
    "print(int('179'*50)**2)\n"
   ]
  },
  {
   "cell_type": "markdown",
   "metadata": {},
   "source": [
    "## Задача H\n",
    "Дано два числа a и b. Выведите гипотенузу треугольника с заданными катетами."
   ]
  },
  {
   "cell_type": "code",
   "execution_count": 8,
   "metadata": {},
   "outputs": [
    {
     "name": "stdout",
     "output_type": "stream",
     "text": [
      "2\n",
      "5\n",
      "5.385164807134504\n"
     ]
    }
   ],
   "source": [
    "## Ваш код здесь\n",
    "import math\n",
    "a = int(input())\n",
    "b = int(input())\n",
    "print(math.sqrt(a**2+b**2))\n",
    "\n"
   ]
  },
  {
   "cell_type": "markdown",
   "metadata": {},
   "source": [
    "## Задача I\n",
    "Даны три целых числа. Найдите наибольшее из них (программа должна вывести ровно одно целое число).\n",
    "Какое наименьшее число операторов сравнения (>, <, >=, <=) необходимо для решения этой задачи?"
   ]
  },
  {
   "cell_type": "code",
   "execution_count": 9,
   "metadata": {},
   "outputs": [
    {
     "name": "stdout",
     "output_type": "stream",
     "text": [
      "1\n",
      "2\n",
      "3\n",
      "3\n"
     ]
    }
   ],
   "source": [
    "## Ваш код здесь\n",
    "a = int(input())\n",
    "b = int(input())\n",
    "c = int(input())\n",
    "if a > c or b > c:\n",
    " if a > b:\n",
    "  print(a)\n",
    " else:\n",
    "  print(b)\n",
    "else:\n",
    " print(c)\n"
   ]
  },
  {
   "cell_type": "markdown",
   "metadata": {},
   "source": [
    "## Задача J\n",
    "Даны три натуральных числа a, b, c. Определите, существует ли треугольник с такими сторонами. Если треугольник существует, выведите строку YES, иначе выведите строку NO.\n",
    "Треугольник — это три точки, не лежащие на одной прямой."
   ]
  },
  {
   "cell_type": "code",
   "execution_count": 10,
   "metadata": {},
   "outputs": [
    {
     "name": "stdout",
     "output_type": "stream",
     "text": [
      "1\n",
      "2\n",
      "3\n",
      "NO\n"
     ]
    }
   ],
   "source": [
    "## Ваш код здесь\n",
    "a = float(input())\n",
    "b = float(input())\n",
    "c = float(input())\n",
    "if a + b > c and a + c > b and b + c > a:\n",
    "    print(\"YES\")\n",
    "else:\n",
    "    print(\"NO\")\n"
   ]
  },
  {
   "cell_type": "markdown",
   "metadata": {},
   "source": [
    "## Задача K\n",
    "Шахматная ладья ходит по горизонтали или вертикали. Даны две различные клетки шахматной доски, определите, может ли ладья попасть с первой клетки на вторую одним ходом."
   ]
  },
  {
   "cell_type": "code",
   "execution_count": 13,
   "metadata": {},
   "outputs": [
    {
     "name": "stdout",
     "output_type": "stream",
     "text": [
      "x1 1\n",
      "y1 1\n",
      "x2 2\n",
      "y2 2\n",
      "NO\n"
     ]
    }
   ],
   "source": [
    "## Ваш код здесь\n",
    "x1 = int(input('x1 '))\n",
    "y1 = int(input('y1 '))\n",
    "x2 = int(input('x2 '))\n",
    "y2 = int(input('y2 '))\n",
    "if x1 == x2 or y1 == y2:\n",
    "    print('YES')\n",
    "else:\n",
    "    print('NO')"
   ]
  },
  {
   "cell_type": "markdown",
   "metadata": {},
   "source": [
    "## Задача L\n",
    "Число $179^{10}$ записали четыре раза подряд. Из получившегося числа извлекли корень степени 10. Сколько получилось?"
   ]
  },
  {
   "cell_type": "code",
   "execution_count": 14,
   "metadata": {},
   "outputs": [
    {
     "data": {
      "text/plain": [
       "3.3769941616283277e+90"
      ]
     },
     "execution_count": 14,
     "metadata": {},
     "output_type": "execute_result"
    }
   ],
   "source": [
    "## Ваш код здесь\n",
    "import math\n",
    "int(str(179**10)*4)**1/10"
   ]
  },
  {
   "cell_type": "markdown",
   "metadata": {},
   "source": [
    "## Задача M\n",
    "Дано натуральное число. Требуется определить, является ли год с данным номером високосным. Если год является високосным, то выведите YES, иначе выведите NO. Напомним, что в соответствии с григорианским календарем, год является високосным, если его номер кратен 4, но не кратен 100, а также если он кратен 400."
   ]
  },
  {
   "cell_type": "code",
   "execution_count": 15,
   "metadata": {},
   "outputs": [
    {
     "name": "stdout",
     "output_type": "stream",
     "text": [
      "2020\n",
      "YES\n"
     ]
    }
   ],
   "source": [
    "## Ваш код здесь\n",
    "year = int(input())\n",
    "if (year % 4 == 0) and (year % 100 != 0) or (year % 400 == 0):\n",
    "    print('YES')\n",
    "else:\n",
    "    print('NO')"
   ]
  },
  {
   "cell_type": "markdown",
   "metadata": {},
   "source": [
    "# Задача N\n",
    "Шахматный конь ходит буквой “Г” — на две клетки по вертикали в любом направлении и на одну клетку по горизонтали, или наоборот. Даны две различные клетки шахматной доски, определите, может ли конь попасть с первой клетки на вторую одним ходом."
   ]
  },
  {
   "cell_type": "code",
   "execution_count": 16,
   "metadata": {},
   "outputs": [
    {
     "name": "stdout",
     "output_type": "stream",
     "text": [
      "1\n",
      "2\n",
      "4\n",
      "5\n",
      "NO\n"
     ]
    }
   ],
   "source": [
    "## Ваш код здесь\n",
    "x1 = int(input())\n",
    "y1 = int(input())\n",
    "x2 = int(input())\n",
    "y2 = int(input())\n",
    "dx = abs(x1 - x2)\n",
    "dy = abs(y1 - y2)\n",
    "if dx == 1 and dy == 2 or dx == 2 and dy == 1:\n",
    "    print('YES')\n",
    "else:\n",
    "    print('NO')"
   ]
  },
  {
   "cell_type": "markdown",
   "metadata": {},
   "source": [
    "## Задача A2\n",
    "Даны два целых числа A и B (при этом A $\\leq$ B). Выведите все числа от A до B включительно."
   ]
  },
  {
   "cell_type": "code",
   "execution_count": 17,
   "metadata": {},
   "outputs": [
    {
     "name": "stdout",
     "output_type": "stream",
     "text": [
      "1\n",
      "5\n",
      "1\n",
      "2\n",
      "3\n",
      "4\n",
      "5\n"
     ]
    }
   ],
   "source": [
    "## Ваш код здесь\n",
    "a = int(input())\n",
    "b = int(input())\n",
    "for i in range(a, b + 1):\n",
    "    print(i)"
   ]
  },
  {
   "cell_type": "markdown",
   "metadata": {},
   "source": [
    "## Задача B2\n",
    "По данному натуральном n вычислите сумму $1^2+2^2+3^2+ \\ldots +n^2$."
   ]
  },
  {
   "cell_type": "code",
   "execution_count": 18,
   "metadata": {},
   "outputs": [
    {
     "name": "stdout",
     "output_type": "stream",
     "text": [
      "2\n",
      "5\n"
     ]
    }
   ],
   "source": [
    "## Ваш код здесь\n",
    "n = int(input())\n",
    "s = 0\n",
    "for i in range(n+1):\n",
    "  s = s+i*i\n",
    "print(s)"
   ]
  },
  {
   "cell_type": "markdown",
   "metadata": {},
   "source": [
    "## Задача C2\n",
    "По данному целому неотрицательному n вычислите значение n!."
   ]
  },
  {
   "cell_type": "code",
   "execution_count": 19,
   "metadata": {},
   "outputs": [
    {
     "name": "stdout",
     "output_type": "stream",
     "text": [
      "3\n",
      "6\n"
     ]
    }
   ],
   "source": [
    "## Ваш код здесь\n",
    "res = 1\n",
    "n = int(input())\n",
    "for i in range(1, n + 1):\n",
    "    res *= i\n",
    "print(res)"
   ]
  },
  {
   "cell_type": "markdown",
   "metadata": {},
   "source": [
    "## Задача D2\n",
    "По данным целым неотрицательным n и k вычислите значение числа сочетаний из n элементов по k, то есть $\\frac{n!}{k!(n-k)!}$."
   ]
  },
  {
   "cell_type": "code",
   "execution_count": 21,
   "metadata": {},
   "outputs": [
    {
     "name": "stdout",
     "output_type": "stream",
     "text": [
      "n 5\n",
      "k 2\n",
      "Cnk =  10\n"
     ]
    }
   ],
   "source": [
    "## Ваш код здесь\n",
    "import math\n",
    "\n",
    "n = int(input('n '))\n",
    "k = int(input('k '))\n",
    "Cnk = int(math.factorial(n) / (math.factorial(k) * math.factorial(n-k)))\n",
    "\n",
    "print('Cnk = ', Cnk)"
   ]
  },
  {
   "cell_type": "markdown",
   "metadata": {},
   "source": [
    "## Задача E2\n",
    "Напишите программу, которая по данному числу n от 1 до 9 выводит на экран n пингвинов. Изображение одного пингвина имеет размер 5×9 символов, между двумя соседними пингвинами также имеется пустой (из пробелов) столбец. Разрешается вывести пустой столбец после последнего пингвина. Для упрощения рисования скопируйте пингвина из примера в среду разработки.\n",
    "\n"
   ]
  },
  {
   "cell_type": "code",
   "execution_count": 21,
   "metadata": {},
   "outputs": [],
   "source": [
    "penguine = [\"   _~_    \",\n",
    "            \"  (o o)   \",\n",
    "            \" /  V  \\ \",\n",
    "            \"/(  _  )\\ \",\n",
    "            \"  ^^ ^^   \"]"
   ]
  },
  {
   "cell_type": "code",
   "execution_count": 22,
   "metadata": {},
   "outputs": [
    {
     "name": "stdout",
     "output_type": "stream",
     "text": [
      "5\n",
      "    _~_       _~_       _~_       _~_       _~_    \n",
      "   (o o)     (o o)     (o o)     (o o)     (o o)    \n",
      "  /  V  \\   /  V  \\   /  V  \\   /  V  \\   /  V  \\   \n",
      " /(  _  )\\ /(  _  )\\ /(  _  )\\ /(  _  )\\ /(  _  )\\  \n",
      "   ^^ ^^     ^^ ^^     ^^ ^^     ^^ ^^     ^^ ^^   \n"
     ]
    }
   ],
   "source": [
    "n = int(input())\n",
    "penguine = [\"    _~_   \",\n",
    "            \"  (o o)   \",\n",
    "            \" /  V  \\  \",\n",
    "            \"/(  _  )\\ \",\n",
    "            \"  ^^ ^^   \"]\n",
    "print(penguine[0]*n,\"\\n\",penguine[1]*n,\"\\n\",penguine[2]*n,\"\\n\",penguine[3]*n,\"\\n\",penguine[4]*n)"
   ]
  },
  {
   "cell_type": "markdown",
   "metadata": {
    "collapsed": true
   },
   "source": [
    "## Задача F2\n",
    "Шоколадка имеет вид прямоугольника, разделенного на n×m долек. Шоколадку можно один раз разломить по прямой на две части. Определите, можно ли таким образом отломить от шоколадки ровно k долек."
   ]
  },
  {
   "cell_type": "code",
   "execution_count": 23,
   "metadata": {},
   "outputs": [
    {
     "name": "stdout",
     "output_type": "stream",
     "text": [
      "5\n",
      "4\n",
      "1\n",
      "NO\n"
     ]
    }
   ],
   "source": [
    "## Ваш код здесь\n",
    "n = int(input())\n",
    "m = int(input())\n",
    "k = int(input())\n",
    "if k < n * m and ((k % n == 0) or (k % m == 0)):\n",
    "    print('YES')\n",
    "else:\n",
    "    print('NO')"
   ]
  },
  {
   "cell_type": "markdown",
   "metadata": {},
   "source": [
    "## Задача G2\n",
    "Дано линейное уравнение $ax + b = 0$. Решите уравнение, напечатайте ответ. Если ответов бесконечно много, выведите \"INF\", если их нет - \"NO\"."
   ]
  },
  {
   "cell_type": "code",
   "execution_count": 27,
   "metadata": {},
   "outputs": [
    {
     "name": "stdout",
     "output_type": "stream",
     "text": [
      "4\n",
      "5\n",
      "-2\n"
     ]
    }
   ],
   "source": [
    "a=int(input())\n",
    "b=int(input())\n",
    "if a==0 and b==0:\n",
    "    print('INF')\n",
    "elif a!=0 and (b==0 or abs(a)<=abs(b)):\n",
    "    print(int(-b//a))\n",
    "else:\n",
    "    print('NO')"
   ]
  },
  {
   "cell_type": "markdown",
   "metadata": {},
   "source": [
    "## Задача H2\n",
    "Для данного числа n < 100 закончите фразу “На лугу пасется...” одним из возможных продолжений: “n коров”, “n корова”, “n коровы”, правильно склоняя слово “корова”."
   ]
  },
  {
   "cell_type": "code",
   "execution_count": 28,
   "metadata": {},
   "outputs": [
    {
     "name": "stdout",
     "output_type": "stream",
     "text": [
      "5\n",
      "5 коров\n"
     ]
    }
   ],
   "source": [
    "## Ваш код здесь\n",
    "n = int(input())\n",
    "\n",
    "tmp = n\n",
    "if n > 20:\n",
    "    n = n % 10\n",
    "\n",
    "if n == 0 or (5 <= n <= 20):\n",
    "    print(tmp, 'коров')\n",
    "elif n == 1:\n",
    "    print(tmp, 'корова')\n",
    "elif n == 2 or n == 3 or n == 4:\n",
    "    print(tmp, 'коровы')"
   ]
  },
  {
   "cell_type": "markdown",
   "metadata": {},
   "source": [
    "# Задача I2. Диофантово уравнение"
   ]
  },
  {
   "cell_type": "markdown",
   "metadata": {},
   "source": [
    "Даны числа a, b, c, d. Выведите в порядке возрастания все целые числа от 0 до 1000, которые являются корнями уравнения $ax^3+bx^2+cx+d=0$."
   ]
  },
  {
   "cell_type": "code",
   "execution_count": 34,
   "metadata": {},
   "outputs": [
    {
     "name": "stdout",
     "output_type": "stream",
     "text": [
      "0\n",
      "0\n",
      "2\n",
      "-4\n",
      "2\n"
     ]
    }
   ],
   "source": [
    "## Ваш код здесь\n",
    "a = int(input())\n",
    "b = int(input())\n",
    "c = int(input())\n",
    "d = int(input())\n",
    "\n",
    "for x in range(0,1001):\n",
    "    if a*(x)**3 + b*(x)**2 + c*(x) + d == 0:\n",
    "        print(x)"
   ]
  },
  {
   "cell_type": "markdown",
   "metadata": {},
   "source": [
    "## Задача J2\n",
    "Квадрат трехзначного числа оканчивается тремя цифрами, равными этому числу. Найдите и выведите все такие числа."
   ]
  },
  {
   "cell_type": "code",
   "execution_count": 35,
   "metadata": {},
   "outputs": [
    {
     "name": "stdout",
     "output_type": "stream",
     "text": [
      "376 625\n"
     ]
    }
   ],
   "source": [
    "## Ваш код здесь\n",
    "print(*(i for i in range(100,1000) if str(pow(i, 2)).endswith(str(i))))\n"
   ]
  },
  {
   "cell_type": "markdown",
   "metadata": {},
   "source": [
    "## Задача K2\n",
    "По данному натуральному $n \\leq 9$ выведите лесенку из n ступенек, i-я ступенька состоит из чисел от 1 до i без пробелов."
   ]
  },
  {
   "cell_type": "code",
   "execution_count": 36,
   "metadata": {},
   "outputs": [
    {
     "name": "stdout",
     "output_type": "stream",
     "text": [
      "5\n",
      "1\n",
      "12\n",
      "123\n",
      "1234\n",
      "12345\n"
     ]
    }
   ],
   "source": [
    "## Ваш код здесь\n",
    "n = int(input())\n",
    "for i in range(1, n + 1):\n",
    "    for j in range(1, i + 1):\n",
    "        print(j, sep='', end='')\n",
    "    print()"
   ]
  },
  {
   "cell_type": "markdown",
   "metadata": {},
   "source": [
    "## Задача L2\n",
    "Дано три числа. Упорядочите их в порядке неубывания. Программа должна считывать три числа a, b, c, затем программа должна менять их значения так, чтобы стали выполнены условия $a \\leq b \\leq c$, затем программа выводит тройку a, b, c."
   ]
  },
  {
   "cell_type": "code",
   "execution_count": 38,
   "metadata": {},
   "outputs": [
    {
     "name": "stdout",
     "output_type": "stream",
     "text": [
      "6\n",
      "2\n",
      "5\n",
      "2 5 6\n"
     ]
    }
   ],
   "source": [
    "## Ваш код здесь\n",
    "a = int(input())\n",
    "b = int(input())\n",
    "c = int(input())\n",
    "if a > b:\n",
    "    a, b = b, a\n",
    "if b > c:\n",
    "    b, c = c, b\n",
    "if a > b:\n",
    "    a, b = b, a\n",
    "print(a, b, c)\n"
   ]
  },
  {
   "cell_type": "markdown",
   "metadata": {},
   "source": [
    "## Задача M2\n",
    "Давным-давно билет на одну поездку в метро стоил 15 рубля, билет на 10 поездок стоил 125 рублей, билет на 60 поездок стоил 440 рублей. Пассажир планирует совершить n поездок. Определите, сколько билетов каждого вида он должен приобрести, чтобы суммарное количество оплаченных поездок было не меньше n, а общая стоимость приобретенных билетов — минимальна."
   ]
  },
  {
   "cell_type": "code",
   "execution_count": 1,
   "metadata": {},
   "outputs": [
    {
     "name": "stdout",
     "output_type": "stream",
     "text": [
      "Билетов по 15 рублей:  4 ;\n",
      "Билетов по 125 рублей:  0 ;\n",
      "Билетов по 440 рублей:  0 ;\n",
      "Общая сумма в рублях:  60 ;\n"
     ]
    }
   ],
   "source": [
    "## Ваш код здесь\n",
    "n = int(input())\n",
    "a,b,c = 0,0,0\n",
    "if n>=60:\n",
    "    a = int(n/60)\n",
    "    n = n - 60*a\n",
    "if n>=10:\n",
    "    b = int(n/10)\n",
    "    n = n - 10*b\n",
    "if n>=1:\n",
    "    c = n\n",
    "print('Билетов по 15 рублей: ',c,';\\nБилетов по 125 рублей: ',b,';\\nБилетов по 440 рублей: ',a,';\\nОбщая сумма в рублях: ',c*15+b*125*a*440,';')"
   ]
  },
  {
   "cell_type": "markdown",
   "metadata": {},
   "source": [
    "## Задача N2. Сумма факториалов\n",
    "По данному натуральном n вычислите сумму 1! + 2! + 3! + ... +n!. В решении этой задачи можно использовать только один цикл."
   ]
  },
  {
   "cell_type": "code",
   "execution_count": 2,
   "metadata": {},
   "outputs": [
    {
     "name": "stdout",
     "output_type": "stream",
     "text": [
      "9\n"
     ]
    }
   ],
   "source": [
    "## Ваш код здесь\n",
    "n = int(input())\n",
    "partial_factorial = 1\n",
    "partial_sum = 0\n",
    "for i in range(1, n + 1):\n",
    "    partial_factorial *= i\n",
    "    partial_sum += partial_factorial\n",
    "print(partial_sum)"
   ]
  }
 ],
 "metadata": {
  "kernelspec": {
   "display_name": "Python 3",
   "language": "python",
   "name": "python3"
  },
  "language_info": {
   "codemirror_mode": {
    "name": "ipython",
    "version": 3
   },
   "file_extension": ".py",
   "mimetype": "text/x-python",
   "name": "python",
   "nbconvert_exporter": "python",
   "pygments_lexer": "ipython3",
   "version": "3.8.2"
  },
  "name": "seminar1_python_intro_tools.ipynb",
  "pycharm": {
   "stem_cell": {
    "cell_type": "raw",
    "metadata": {
     "collapsed": false
    },
    "source": []
   }
  }
 },
 "nbformat": 4,
 "nbformat_minor": 1
}
