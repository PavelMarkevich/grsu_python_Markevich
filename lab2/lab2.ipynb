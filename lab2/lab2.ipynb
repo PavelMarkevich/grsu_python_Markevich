{
 "cells": [
  {
   "cell_type": "markdown",
   "metadata": {},
   "source": [
    "# Лабораторная работа 2. Обзор модулей"
   ]
  },
  {
   "cell_type": "markdown",
   "metadata": {},
   "source": [
    "Модуль содержит расширение стандартных built-in контейнеров питона, таких как dict, list, set, and tuple\n",
    "\n",
    "Зачастую ими пользоваться удобней, чем стандартными"
   ]
  },
  {
   "cell_type": "code",
   "execution_count": 1,
   "metadata": {},
   "outputs": [],
   "source": [
    "from collections import defaultdict\n",
    "# Отнаследован от dict, а значит, имеет те же методы"
   ]
  },
  {
   "cell_type": "markdown",
   "metadata": {},
   "source": [
    "К примеру, нам нужно посчитать частоту чисел в массиве. Используя словарь, это можно сделать так:\n",
    "\n"
   ]
  },
  {
   "cell_type": "code",
   "execution_count": 2,
   "metadata": {},
   "outputs": [
    {
     "name": "stdout",
     "output_type": "stream",
     "text": [
      "{2: 3, 4: 1, 3: 1}\n"
     ]
    }
   ],
   "source": [
    "elems = [2, 2, 4, 2, 3]\n",
    "build_in_dict = dict()\n",
    "\n",
    "for elem in elems:\n",
    "    if elem in build_in_dict:\n",
    "        build_in_dict[elem] += 1\n",
    "    else:\n",
    "        build_in_dict[elem] = 1\n",
    "\n",
    "print(build_in_dict)"
   ]
  },
  {
   "cell_type": "markdown",
   "metadata": {},
   "source": [
    "Выглядит неаккуратно - 4 строчки занимают очень простую операцию - добавление элемента. Перепишем, используя defaultdict:"
   ]
  },
  {
   "cell_type": "code",
   "execution_count": 3,
   "metadata": {},
   "outputs": [
    {
     "name": "stdout",
     "output_type": "stream",
     "text": [
      "defaultdict(<class 'int'>, {2: 3, 4: 1, 3: 1})\n"
     ]
    }
   ],
   "source": [
    "dct = defaultdict(int)\n",
    "\n",
    "for elem in elems:\n",
    "    dct[elem] += 1\n",
    "\n",
    "print(dct)"
   ]
  },
  {
   "cell_type": "markdown",
   "metadata": {},
   "source": [
    "### Задание 1. Написать с помощью defaultdict функцию для подсчета количества различных labels для каждого цвета"
   ]
  },
  {
   "cell_type": "code",
   "execution_count": 4,
   "metadata": {},
   "outputs": [],
   "source": [
    "def count_colors_labels(colors_labels):\n",
    "    elems = [('yellow', 3), ('green', 4), ('green', 4), ('red', 2), ('green', 7), ('yellow', 4),('green', 4)]\n",
    "    check = collections.defaultdict(int)\n",
    "    repeat = collections.defaultdict(str)\n",
    "    for color, nom in elems:\n",
    "        if check[color]==0:\n",
    "            check[color]+=1 \n",
    "            repeat[color] = [str(nom)]\n",
    "        elif not str(nom) in repeat[color]:\n",
    "                    check[color]+=1  \n",
    "                    repeat[color].append(str(nom))\n",
    "    return(check)"
   ]
  },
  {
   "cell_type": "code",
   "execution_count": 5,
   "metadata": {},
   "outputs": [
    {
     "name": "stdout",
     "output_type": "stream",
     "text": [
      "defaultdict(<class 'int'>, {'yellow': 2, 'green': 2, 'red': 1}) ,  True\n"
     ]
    }
   ],
   "source": [
    "# format: list of tuples: (color, label)\n",
    "import collections\n",
    "elems = [('yellow', 3), ('green', 4), ('green', 4), ('red', 2), ('green', 7), ('yellow', 4)]\n",
    "# check\n",
    "true_answer = {'yellow': 2, 'green': 2, 'red': 1}\n",
    "\n",
    "print(count_colors_labels(elems),\", \",count_colors_labels(elems) == true_answer)"
   ]
  },
  {
   "cell_type": "markdown",
   "metadata": {},
   "source": [
    "### Задание 2. Написать класс, с помощью которого можно создать словарь, который по умолчанию будет выдавать количество уже заведенных элементов до него"
   ]
  },
  {
   "cell_type": "code",
   "execution_count": 6,
   "metadata": {},
   "outputs": [
    {
     "ename": "SyntaxError",
     "evalue": "invalid syntax (<ipython-input-6-5074a4af335b>, line 2)",
     "output_type": "error",
     "traceback": [
      "\u001b[0;36m  File \u001b[0;32m\"<ipython-input-6-5074a4af335b>\"\u001b[0;36m, line \u001b[0;32m2\u001b[0m\n\u001b[0;31m    def __init__(self,)\u001b[0m\n\u001b[0m                       ^\u001b[0m\n\u001b[0;31mSyntaxError\u001b[0m\u001b[0;31m:\u001b[0m invalid syntax\n"
     ]
    }
   ],
   "source": [
    "class StrangeClass(object):\n",
    "    def __init__(self,)"
   ]
  },
  {
   "cell_type": "code",
   "execution_count": null,
   "metadata": {},
   "outputs": [],
   "source": [
    "dct = defaultdict(StrangeClass())\n",
    "\n",
    "elems = [9, 3, 1, 3, 4, 10]\n",
    "\n",
    "[dct[elem] for elem in elems] == [0, 1, 2, 1, 3, 4]"
   ]
  },
  {
   "cell_type": "markdown",
   "metadata": {},
   "source": [
    "### Задание 3. С помощью deque написать функцию, выдающую последние n строк из файла"
   ]
  },
  {
   "cell_type": "code",
   "execution_count": null,
   "metadata": {},
   "outputs": [],
   "source": [
    "def tail(filename, n=10):\n",
    "    f = open (filename, 'r')\n",
    "    l = [line.strip() for line in f]\n",
    "    f.close()\n",
    "    l.reverse() \n",
    "    s = ''\n",
    "    i = n - 1\n",
    "    while (i >= 0):\n",
    "        s += l[i] + '\\n'\n",
    "        i = i - 1\n",
    "    return s"
   ]
  },
  {
   "cell_type": "code",
   "execution_count": null,
   "metadata": {},
   "outputs": [],
   "source": [
    "# check with your file\n",
    "\n",
    "filename = ''\n",
    "last_lines = ''\n",
    "\n",
    "n = 10\n",
    "assert tail(filename, n) == last_lines"
   ]
  },
  {
   "cell_type": "markdown",
   "metadata": {},
   "source": [
    "### Задание 4. Написать функцию, выводящую наименее встречаемые элементы с помощью Counter\n"
   ]
  },
  {
   "cell_type": "code",
   "execution_count": null,
   "metadata": {},
   "outputs": [],
   "source": [
    "def get_least_common(iterable_obj, n=3):\n",
    "    c = collections.Counter()\n",
    "    for elem in iterable_obj:\n",
    "        c[elem] += 1\n",
    "    s = []\n",
    "    for one, two in c.most_common()[:-(n+1):-1]:\n",
    "        s.append(one)\n",
    "    return s"
   ]
  },
  {
   "cell_type": "code",
   "execution_count": null,
   "metadata": {},
   "outputs": [],
   "source": [
    "import collections\n",
    "elems = [1,4,3,1,1,8,9,2,8,8,9,9]\n",
    "print(get_least_common(elems) == [2, 3, 4],', ',get_least_common(elems))"
   ]
  },
  {
   "cell_type": "markdown",
   "metadata": {},
   "source": [
    "### Задание 5. Написать класс LastUpdatedOrderedDict. Модификация относительно OrderedDict в том, чтобы при добавлении уже существующих элементов, перезаписывать их места в словаре\n"
   ]
  },
  {
   "cell_type": "code",
   "execution_count": null,
   "metadata": {},
   "outputs": [],
   "source": [
    "from collections import OrderedDict\n",
    "\n",
    "class LastUpdatedOrderedDict(OrderedDict):   \n",
    "    def __setitem__(self, key, value):       \n",
    "            super().__setitem__(key, value)  \n",
    "            super().move_to_end(key)"
   ]
  },
  {
   "cell_type": "code",
   "execution_count": null,
   "metadata": {},
   "outputs": [],
   "source": [
    "lud = LastUpdatedOrderedDict()\n",
    "\n",
    "elems = ['a', 'b', 'c']\n",
    "\n",
    "for elem in elems:\n",
    "    lud[elem] = 1\n",
    "\n",
    "list(lud) == elems\n",
    "\n",
    "lud['a'] = 1\n",
    "\n",
    "list(lud) == ['b', 'c', 'a']"
   ]
  },
  {
   "cell_type": "markdown",
   "metadata": {},
   "source": [
    "### Задание 6. Полностью написать функцию, считывающую работников из csv файла. Использовать модуль csv\n",
    "\n"
   ]
  },
  {
   "cell_type": "code",
   "execution_count": null,
   "metadata": {},
   "outputs": [],
   "source": [
    "def read_employees(filename):\n",
    "    raise NotImplementedError()"
   ]
  },
  {
   "cell_type": "markdown",
   "metadata": {},
   "source": [
    "### Задание 7. Написать функцию, принимающую 2 списка и возвращающую декартово произведение (использовать itertools.product)\n",
    "\n"
   ]
  },
  {
   "cell_type": "code",
   "execution_count": null,
   "metadata": {},
   "outputs": [],
   "source": [
    "def get_cartesian_product(a, b):\n",
    "    c = list(itertools.product(a,b))\n",
    "    return c"
   ]
  },
  {
   "cell_type": "code",
   "execution_count": null,
   "metadata": {},
   "outputs": [],
   "source": [
    "import itertools\n",
    "\n",
    "get_cartesian_product([1, 2], [3, 4]) == [(1, 3), (1, 4), (2, 3), (2, 4)]"
   ]
  },
  {
   "cell_type": "markdown",
   "metadata": {},
   "source": [
    "### Задание 8. Написать функцию, принимающую строку s и число n и возвращающую всевозможные перестановки из n символов в s строке в лексикографическом(!) порядке (использовать itertools.permutations)\n"
   ]
  },
  {
   "cell_type": "code",
   "execution_count": null,
   "metadata": {},
   "outputs": [],
   "source": [
    "def get_permutations(s, n):\n",
    "    r = []\n",
    "    for item in itertools.permutations(s,n):\n",
    "        r.append(''.join(item))\n",
    "    return sorted(r)\n",
    "\n",
    "print(get_permutations(\"cat\", 2) == [\"ac\", \"at\", \"ca\", \"ct\", \"ta\", \"tc\"],', ',get_permutations(\"cat\", 2))"
   ]
  },
  {
   "cell_type": "markdown",
   "metadata": {},
   "source": [
    "### Задание 9. Реализовать функцию get_combinations. Должна принимать строку s и число k и возвращать все возможные комбинации из символов в строке s с длинами <= k (использовать itertools.combinations)"
   ]
  },
  {
   "cell_type": "code",
   "execution_count": null,
   "metadata": {},
   "outputs": [],
   "source": [
    "def get_combinations(s, n):\n",
    "    r = []\n",
    "    i = 1\n",
    "    while (i<=n):\n",
    "        k = []\n",
    "        for item in itertools.combinations(s, i):\n",
    "            k.append(\"\".join(item))\n",
    "        i+=1\n",
    "        k = sorted(k)\n",
    "        r += (k)\n",
    "    return r\n",
    "\n",
    "print(get_combinations(\"cat\", 2) == [\"a\", \"c\", \"t\", \"ac\", \"at\", \"ct\"],', ',get_combinations(\"cat\", 2))"
   ]
  },
  {
   "cell_type": "markdown",
   "metadata": {},
   "source": [
    "### Задание 10. Функция должна принимать строку s и число k и возвращать все возможные комбинации из символов в строке s с длинами = k с повторениями (использовать itertools.combinations_with_replacement)"
   ]
  },
  {
   "cell_type": "code",
   "execution_count": null,
   "metadata": {},
   "outputs": [],
   "source": [
    "def get_combinations_with_r(s, n):\n",
    "    r = []\n",
    "    for item in itertools.combinations_with_replacement(s,n):\n",
    "        r.append(''.join(item))\n",
    "    return sorted(r)\n",
    "\n",
    "print(get_combinations_with_r(\"cat\", 2) == [\"aa\", \"ac\", \"at\", \"cc\", \"ct\", \"tt\"],', ',get_combinations_with_r(\"cat\", 2))"
   ]
  },
  {
   "cell_type": "markdown",
   "metadata": {},
   "source": [
    "### Задание 11. Написать функцию, которая подсчитывает количество подряд идующих символов в строке (использовать itertools.groupby)"
   ]
  },
  {
   "cell_type": "code",
   "execution_count": null,
   "metadata": {},
   "outputs": [],
   "source": [
    "def compress_string(s):\n",
    "    a = []\n",
    "    b = []\n",
    "    for key,group in itertools.groupby(s):\n",
    "        a.append(list(group))\n",
    "    for i in a:\n",
    "        b.append((i.count(i[0]), int(i[0])))\n",
    "    return b\n",
    "    \n",
    "\n",
    "print(compress_string('1222311') == [(1, 1), (3, 2), (1, 3), (2, 1)],', ',compress_string('1222311'))"
   ]
  },
  {
   "cell_type": "markdown",
   "metadata": {},
   "source": [
    "### Задание 12. В функцию передается список списков. Нужно вернуть максимум, который достигает выражение $(a_1^2 + a_2^2 + ... + a_n^2) % m $. Где a_i --- некоторый элемент из i-ого списка (использовать функцию из itertools)"
   ]
  },
  {
   "cell_type": "code",
   "execution_count": null,
   "metadata": {},
   "outputs": [],
   "source": [
    "def fun(a1,a2):\n",
    "    return (a1**2+a2**2)\n",
    "\n",
    "def maximize(lists):\n",
    "    a = []\n",
    "    for item in itertools.starmap(fun, lists):\n",
    "        a.append(item)\n",
    "    return a\n",
    "    \n",
    "\n",
    "lists = [ [5, 4], [7, 8, 9], [5, 7, 8, 9, 10]]\n",
    "print (maximize(lists))"
   ]
  },
  {
   "cell_type": "markdown",
   "metadata": {},
   "source": [
    "### Задание 13. Напишите не самую лучшую версию вычисления чисел Фибоначчи (через рекурсию), только для демонстрации силы lru_cache."
   ]
  },
  {
   "cell_type": "code",
   "execution_count": null,
   "metadata": {},
   "outputs": [],
   "source": [
    "import functools\n"
   ]
  },
  {
   "cell_type": "markdown",
   "metadata": {},
   "source": [
    "А теперь запустите ее с достаточно большим n с декоратором и без\n",
    "@functools.lru_cache(maxsize=128, typed=False)\n"
   ]
  },
  {
   "cell_type": "code",
   "execution_count": null,
   "metadata": {},
   "outputs": [],
   "source": []
  },
  {
   "cell_type": "code",
   "execution_count": null,
   "metadata": {},
   "outputs": [],
   "source": []
  },
  {
   "cell_type": "markdown",
   "metadata": {},
   "source": [
    "Сделайте замер времени выполнения функций. Используйте time. "
   ]
  },
  {
   "cell_type": "code",
   "execution_count": null,
   "metadata": {},
   "outputs": [],
   "source": []
  }
 ],
 "metadata": {
  "kernelspec": {
   "display_name": "Python 3",
   "language": "python",
   "name": "python3"
  },
  "language_info": {
   "codemirror_mode": {
    "name": "ipython",
    "version": 3
   },
   "file_extension": ".py",
   "mimetype": "text/x-python",
   "name": "python",
   "nbconvert_exporter": "python",
   "pygments_lexer": "ipython3",
   "version": "3.8.2"
  }
 },
 "nbformat": 4,
 "nbformat_minor": 2
}
