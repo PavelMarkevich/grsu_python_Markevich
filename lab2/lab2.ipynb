{
 "cells": [
  {
   "cell_type": "markdown",
   "metadata": {},
   "source": [
    "# Лабораторная работа 2. Обзор модулей"
   ]
  },
  {
   "cell_type": "markdown",
   "metadata": {},
   "source": [
    "Модуль содержит расширение стандартных built-in контейнеров питона, таких как dict, list, set, and tuple\n",
    "\n",
    "Зачастую ими пользоваться удобней, чем стандартными"
   ]
  },
  {
   "cell_type": "code",
   "execution_count": 43,
   "metadata": {},
   "outputs": [],
   "source": [
    "from collections import defaultdict\n",
    "# Отнаследован от dict, а значит, имеет те же методы"
   ]
  },
  {
   "cell_type": "markdown",
   "metadata": {},
   "source": [
    "К примеру, нам нужно посчитать частоту чисел в массиве. Используя словарь, это можно сделать так:\n",
    "\n"
   ]
  },
  {
   "cell_type": "code",
   "execution_count": 44,
   "metadata": {},
   "outputs": [
    {
     "name": "stdout",
     "output_type": "stream",
     "text": [
      "{2: 3, 4: 1, 3: 1}\n"
     ]
    }
   ],
   "source": [
    "elems = [2, 2, 4, 2, 3]\n",
    "build_in_dict = dict()\n",
    "\n",
    "for elem in elems:\n",
    "    if elem in build_in_dict:\n",
    "        build_in_dict[elem] += 1\n",
    "    else:\n",
    "        build_in_dict[elem] = 1\n",
    "\n",
    "print(build_in_dict)"
   ]
  },
  {
   "cell_type": "markdown",
   "metadata": {},
   "source": [
    "Выглядит неаккуратно - 4 строчки занимают очень простую операцию - добавление элемента. Перепишем, используя defaultdict:"
   ]
  },
  {
   "cell_type": "code",
   "execution_count": 45,
   "metadata": {},
   "outputs": [
    {
     "name": "stdout",
     "output_type": "stream",
     "text": [
      "defaultdict(<class 'int'>, {2: 3, 4: 1, 3: 1})\n"
     ]
    }
   ],
   "source": [
    "dct = defaultdict(int)\n",
    "\n",
    "for elem in elems:\n",
    "    dct[elem] += 1\n",
    "\n",
    "print(dct)"
   ]
  },
  {
   "cell_type": "markdown",
   "metadata": {},
   "source": [
    "### Задание 1. Написать с помощью defaultdict функцию для подсчета количества различных labels для каждого цвета"
   ]
  },
  {
   "cell_type": "code",
   "execution_count": 46,
   "metadata": {},
   "outputs": [],
   "source": [
    "def count(colors_labels):\n",
    "    elements = [('yellow', 3), ('green', 4), ('green', 4), ('red', 2), ('green', 7), ('yellow', 4),('green', 4)]\n",
    "    checker = collections.defaultdict(int)\n",
    "    repeat = collections.defaultdict(str)\n",
    "    for color, quantity in elements:\n",
    "        if checker[color]==0:\n",
    "            checker[color]+=1 \n",
    "            repeat[color] = [str(quantity)]\n",
    "        elif not str(quantity) in repeat[color]:\n",
    "                    checker[color]+=1  \n",
    "                    repeat[color].append(str(quantity))\n",
    "    return(checker)"
   ]
  },
  {
   "cell_type": "code",
   "execution_count": 47,
   "metadata": {},
   "outputs": [
    {
     "name": "stdout",
     "output_type": "stream",
     "text": [
      "defaultdict(<class 'int'>, {'yellow': 2, 'green': 2, 'red': 1}) ,  True\n"
     ]
    }
   ],
   "source": [
    "# format: list of tuples: (color, label)\n",
    "import collections\n",
    "elements = [('yellow', 3), ('green', 4), ('green', 4), ('red', 2), ('green', 7), ('yellow', 4)]\n",
    "answer = {'yellow': 2, 'green': 2, 'red': 1}\n",
    "\n",
    "print(count(elements),\", \",count(elements) == answer)"
   ]
  },
  {
   "cell_type": "markdown",
   "metadata": {},
   "source": [
    "### Задание 2. Написать класс, с помощью которого можно создать словарь, который по умолчанию будет выдавать количество уже заведенных элементов до него"
   ]
  },
  {
   "cell_type": "code",
   "execution_count": 3,
   "metadata": {},
   "outputs": [],
   "source": [
    "class StrangeClass:\n",
    "    def __init__(self):\n",
    "        self._safe_ = {}\n",
    "        self._count_ = 0\n",
    "    def calcul(self, x):\n",
    "        if x in self._safe_.keys():\n",
    "            return self._safe_.get(x)\n",
    "        else:\n",
    "            self._safe_[x] = self._count_\n",
    "            fin = self._count_\n",
    "            self._count_ += 1\n",
    "            return fin"
   ]
  },
  {
   "cell_type": "code",
   "execution_count": 5,
   "metadata": {},
   "outputs": [
    {
     "name": "stdout",
     "output_type": "stream",
     "text": [
      "True\n"
     ]
    }
   ],
   "source": [
    "dct = StrangeClass()\n",
    "elems = [9, 3, 1, 3, 4, 10]\n",
    "print(([dct.calcul(elem) for elem in elems]) == [0, 1, 2, 1, 3, 4])"
   ]
  },
  {
   "cell_type": "markdown",
   "metadata": {},
   "source": [
    "### Задание 3. С помощью deque написать функцию, выдающую последние n строк из файла"
   ]
  },
  {
   "cell_type": "code",
   "execution_count": 50,
   "metadata": {},
   "outputs": [],
   "source": [
    "from collections import deque\n",
    " \n",
    "def tail(filename, n):\n",
    "    try:\n",
    "        with open(filename) as f:\n",
    "            return deque(f, n)\n",
    "    except OSError:\n",
    "        print(\"not open: {}\".format(filename))\n",
    "        raise"
   ]
  },
  {
   "cell_type": "code",
   "execution_count": 51,
   "metadata": {},
   "outputs": [
    {
     "name": "stdout",
     "output_type": "stream",
     "text": [
      "True \n",
      "\n",
      "\n",
      " ['yerye\\n', 'wqwdq qe wq\\n', 'wdqwdq\\n', 'efwef\\n', 'f wefwe\\n', 'ytry\\n', 'ytry\\n', 'we r\\n', 'weqwe q\\n', 'terte']\n"
     ]
    }
   ],
   "source": [
    "# check with your file\n",
    "\n",
    "filename = 'zad3.txt'\n",
    "lines = ['yerye\\n','wqwdq qe wq\\n','wdqwdq\\n','efwef\\n','f wefwe\\n','ytry\\n','ytry\\n','we r\\n','weqwe q\\n','terte']\n",
    "n = 10\n",
    "print(tail(filename, n) == deque(lines),'\\n\\n\\n',lines)"
   ]
  },
  {
   "cell_type": "markdown",
   "metadata": {},
   "source": [
    "### Задание 4. Написать функцию, выводящую наименее встречаемые элементы с помощью Counter\n"
   ]
  },
  {
   "cell_type": "code",
   "execution_count": 52,
   "metadata": {},
   "outputs": [],
   "source": [
    "def leastEncounteredItems(iterable_obj, n=3):\n",
    "    c = collections.Counter()\n",
    "    for elem in iterable_obj:\n",
    "        c[elem] += 1\n",
    "    s = []\n",
    "    for one, two in c.most_common()[:-(n+1):-1]:\n",
    "        s.append(one)\n",
    "    return s"
   ]
  },
  {
   "cell_type": "code",
   "execution_count": 53,
   "metadata": {},
   "outputs": [
    {
     "name": "stdout",
     "output_type": "stream",
     "text": [
      "True ,  [2, 3, 4]\n"
     ]
    }
   ],
   "source": [
    "import collections\n",
    "elements = [1,4,3,1,1,8,9,2,8,8,9,9]\n",
    "print(leastEncounteredItems(elements) == [2, 3, 4],', ',leastEncounteredItems(elements))"
   ]
  },
  {
   "cell_type": "markdown",
   "metadata": {},
   "source": [
    "### Задание 5. Написать класс LastUpdatedOrderedDict. Модификация относительно OrderedDict в том, чтобы при добавлении уже существующих элементов, перезаписывать их места в словаре\n"
   ]
  },
  {
   "cell_type": "code",
   "execution_count": 54,
   "metadata": {},
   "outputs": [],
   "source": [
    "from collections import OrderedDict\n",
    "\n",
    "class LastUpdatedOrderedDict(OrderedDict):   \n",
    "    def __setitem__(self, key, value):       \n",
    "            super().__setitem__(key, value)  \n",
    "            super().move_to_end(key)"
   ]
  },
  {
   "cell_type": "code",
   "execution_count": 55,
   "metadata": {},
   "outputs": [
    {
     "data": {
      "text/plain": [
       "True"
      ]
     },
     "execution_count": 55,
     "metadata": {},
     "output_type": "execute_result"
    }
   ],
   "source": [
    "lud = LastUpdatedOrderedDict()\n",
    "\n",
    "elems = ['a', 'b', 'c']\n",
    "\n",
    "for elem in elems:\n",
    "    lud[elem] = 1\n",
    "\n",
    "list(lud) == elems\n",
    "\n",
    "lud['a'] = 1\n",
    "\n",
    "list(lud) == ['b', 'c', 'a']"
   ]
  },
  {
   "cell_type": "markdown",
   "metadata": {},
   "source": [
    "### Задание 6. Полностью написать функцию, считывающую работников из csv файла. Использовать модуль csv\n",
    "\n"
   ]
  },
  {
   "cell_type": "code",
   "execution_count": 56,
   "metadata": {},
   "outputs": [
    {
     "name": "stdout",
     "output_type": "stream",
     "text": [
      "variable_name dataset code_list definition\n",
      "budget_cpp_dstb Budget  Average cost of drugs budgeted per patient for drug-susceptible TB treatment, excluding buffer stock (US Dollars)\n",
      "budget_cpp_mdr Budget  Average cost of drugs budgeted per patient for MDR-TB treatment, excluding buffer stock (US Dollars)\n",
      "budget_cpp_xdr Budget  Average cost of drugs budgeted per patient for XDR-TB treatment, excluding buffer stock (US Dollars)\n",
      "budget_fld Budget  Budget required for drugs to treat drug-susceptible TB (US Dollars)\n",
      "budget_lab Budget  Budget required for laboratory infrastructure, equipment and supplies (US Dollars)\n",
      "budget_mdrmgt Budget  Budget required for programme costs to treat drug-resistant TB (US Dollars)\n",
      "budget_orsrvy Budget  Budget required for operational research and surveys (US Dollars)\n",
      "budget_oth Budget  Budget required for all other budget line items (US Dollars)\n",
      "budget_patsup Budget  Budget required for patient support (US Dollars)\n",
      "budget_prog Budget  Budget required for programme costs to treat drug-susceptible TB (US Dollars)\n",
      "budget_sld Budget  Budget required for drugs to treat drug-resistant TB (US Dollars)\n",
      "budget_staff Budget  Budget required for National TB Programme staff (central unit staff and subnational TB staff)  (US Dollars)\n",
      "budget_tbhiv Budget  Budget required for collaborative TB/HIV activities (US Dollars)\n",
      "budget_tot Budget  Total budget required (US Dollars)\n",
      "cf_fld Budget  Expected funding for drugs to treat drug-susceptible TB (US Dollars)\n",
      "cf_lab Budget  Expected funding for laboratory infrastructure, equipment and supplies (US Dollars)\n",
      "cf_mdrmgt Budget  Expected funding for programme costs to treat drug-resistant TB (US Dollars)\n",
      "cf_orsrvy Budget  Expected funding for operational research and surveys (US Dollars)\n",
      "cf_oth Budget  Expected funding for all other budget line items (US Dollars)\n",
      "cf_patsup Budget  Expected funding for patient support (US Dollars)\n",
      "cf_prog Budget  Expected funding for programme costs to treat drug-susceptible TB (US Dollars)\n",
      "cf_sld Budget  Expected funding for drugs to treat drug-resistant TB (US Dollars)\n",
      "cf_staff Budget  Expected funding for National TB Programme staff (central unit staff and subnational TB staff)  (US Dollars)\n",
      "cf_tbhiv Budget  Expected funding for collaborative TB/HIV activities (US Dollars)\n",
      "cf_tot Budget  Total expected funding for all budget line items (US Dollars)\n",
      "cf_tot_domestic Budget  Expected funding from domestic sources, including loans (US Dollars)\n",
      "cf_tot_gf Budget  Expected funding from the Global Fund to Fight AIDS, Tuberculosis and Malaria (US Dollars)\n",
      "cf_tot_grnt Budget  Expected funding from other sources (US Dollars)\n",
      "cf_tot_sources Budget  Total expected funding from all sources (US Dollars)\n",
      "cf_tot_usaid Budget  Expected funding from USAID (US Dollars)\n",
      "tx_dstb Budget  Number of patients expected to start drug-susceptible TB treatment\n",
      "tx_mdr Budget  Number of patients expected to start MDR-TB treatment\n",
      "tx_xdr Budget  Number of patients expected to start XDR-TB treatment\n",
      "bmu Community engagement  Number of TB Basic Management Units in the country\n",
      "bmu_community_impl Community engagement  Number of TB Basic Management Units which implemented community-based referrals or any form of community treatment adherence support\n",
      "bmu_ref_data Community engagement  Number of Basic Management Units with data on referrals by community health workers / community volunteers\n",
      "bmu_rxsupport_data Community engagement  Number of Basic Management Units with data on community treatment adherence support\n",
      "bmu_rxsupport_data_coh Community engagement  Total number of patients who started TB treatment in the Basic Management Units with data on community treatment adherence support\n",
      "community_data_available Community engagement 0=No; 1=Yes Are data available on community-based referrals or any form of community treatment adherence support?\n",
      "notified_ref Community engagement  Total number of new and relapse TB cases notified in the Basic Management Units with data on referrals by community health workers\n",
      "notified_ref_community Community engagement  Total number of new and relapse TB cases referred by community health workers / community volunteers in the Basic Management Units with data on referrals by community health workers\n",
      "rxsupport_community_coh Community engagement  Total number of patients who started TB treatment and who received any form of treatment adherence support from community health workers / community volunteers in the Basic Management Units with data on community treatment adherence support\n",
      "rxsupport_community_succ Community engagement  Total number of patients who were cured or who completed treatment among the cases who started TB treatment and who received any form of treatment adherence support from community health workers / community volunteers in the Basic Management Units with data on community treatment adherence support\n",
      "country Country identification  Country or territory name\n",
      "iso_numeric Country identification  ISO numeric country/territory code\n",
      "iso2 Country identification  ISO 2-character country/territory code\n",
      "iso3 Country identification  ISO 3-character country/territory code\n",
      "age_group Disaggregated estimates 0-4=0-4 years; 5-14=5-14 years; 15-24=15-24 years ..etc; 15plus=15 years and above; 65plus=65 years and above; all=All ages; Age group (in years)\n",
      "best Disaggregated estimates  Best estimate\n",
      "hi Disaggregated estimates  High bound of estimate\n",
      "lo Disaggregated estimates  Low bound of estimate\n",
      "measure Disaggregated estimates inc = incidence The measure of TB burden being estimated\n",
      "risk_factor Disaggregated estimates alc=Harmful use of alcohol; dia=Diabetes; hiv=HIV; smk=Smoking; und=Undernourishment; all=All (not disaggregated by specific risk factors) Cases attributable to a specific risk factor\n",
      "sex Disaggregated estimates a=All (females and males); f=Females; m=Males Sex\n",
      "unit Disaggregated estimates num=absolute number The unit of measurement\n",
      "dst_rlt_hr_new Drug resistance surveillance  Number of new bacteriologically confirmed pulmonary TB patients with test results for rifampicin and isoniazid and with resistance to isoniazid (regardless of result for rifampicin)\n",
      "dst_rlt_hr_ret Drug resistance surveillance  Number of previously treated bacteriologically confirmed pulmonary TB patients with test results for rifampicin and isoniazid and with resistance to isoniazid (regardless of result for rifampicin)\n",
      "dst_rlt_new Drug resistance surveillance  Drug resistance surveillance: Among new pulmonary TB patients with positive identification for M. Tuberculosis complex (confirmed by culture and/or line-probe assay): number of patients with available drug susceptibility testing results for isoniazid and rifampicin\n",
      "dst_rlt_ret Drug resistance surveillance  Drug resistance surveillance: Among patients previously treated for TB with positive identification for M. Tuberculosis complex (confirmed by culture and/or line-probe assay): number of patients with available drug susceptibility testing results for isoniazid and rifampicin\n",
      "dst_rlt_rr_new Drug resistance surveillance  Number of new bacteriologically confirmed pulmonary TB patients with test results for rifampicin and isoniazid and with resistance to rifampicin (regardless of result for isoniazid)\n",
      "dst_rlt_rr_ret Drug resistance surveillance  Number of previously treated bacteriologically confirmed pulmonary TB patients with test results for rifampicin and isoniazid and with resistance to rifampicin (regardless of result for isoniazid)\n",
      "mdr_dst_rlt Drug resistance surveillance  Drug resistance surveillance: Total number of pulmonary MDR-TB patients with drug susceptibility test results for any fluoroquinolone and any second-line injectable agent\n",
      "mdr_new Drug resistance surveillance  Drug resistance surveillance: Among new TB patients with available drug susceptibility testing results (variable dst_rlt_new):  number of patients with resistance to isoniazid and rifampicin  (MDR-TB)\n",
      "mdr_ret Drug resistance surveillance  Drug resistance surveillance: Among patients previously treated for TB with available drug susceptibility testing results (variable dst_rlt_ret):  number of patients with resistance to isoniazid and rifampicin  (MDR-TB)\n",
      "nrr_014 Drug resistance surveillance  Among patients with results for rifampicin testing in r_rlt_new and r_rlt_ret, number susceptible to rifampicin and who are aged 0-14 years\n",
      "nrr_15plus Drug resistance surveillance  Among patients with results for rifampicin testing in r_rlt_new and r_rlt_ret, number susceptible to rifampicin and who are aged 15 years and over\n",
      "nrr_ageunk Drug resistance surveillance  Among patients with results for rifampicin testing in r_rlt_new and r_rlt_ret, number susceptible to rifampicin and whose age is unknown\n",
      "nrr_hivneg Drug resistance surveillance  Among patients with results for rifampicin testing in r_rlt_new and r_rlt_ret, number susceptible to rifampicin and who are HIV-negative\n",
      "nrr_hivpos Drug resistance surveillance  Among patients with results for rifampicin testing in r_rlt_new and r_rlt_ret, number susceptible to rifampicin and who are HIV-positive\n",
      "nrr_hivunk Drug resistance surveillance  Among patients with results for rifampicin testing in r_rlt_new and r_rlt_ret, number susceptible to rifampicin and whose HIV status is unknown\n",
      "pulm_labconf_new Drug resistance surveillance  Number of new bacteriologically confirmed pulmonary TB cases\n",
      "pulm_labconf_ret Drug resistance surveillance  Number of previously treated bacteriologically confirmed pulmonary TB cases\n",
      "pulm_labconf_unk Drug resistance surveillance  Number of bacteriologically confirmed pulmonary TB cases with unknown TB treatment history\n",
      "r_rlt_new Drug resistance surveillance  Number of new bacteriologically confirmed pulmonary TB patients with test results for rifampicin\n",
      "r_rlt_ret Drug resistance surveillance  Number of previously treated bacteriologically confirmed pulmonary TB patients with test results for rifampicin\n",
      "rr_014 Drug resistance surveillance  Among patients with results for rifampicin testing in r_rlt_new and r_rlt_ret, number resistant to rifampicin and who are aged 0-14 years\n",
      "rr_15plus Drug resistance surveillance  Among patients with results for rifampicin testing in r_rlt_new and r_rlt_ret, number resistant to rifampicin and who are aged 15 years and over\n",
      "rr_ageunk Drug resistance surveillance  Among patients with results for rifampicin testing in r_rlt_new and r_rlt_ret, number resistant to rifampicin and whose age is unknown\n",
      "rr_dr_2li Drug resistance surveillance  Number of new or previously treated bacteriologically confirmed pulmonary TB patients with resistance to rifampicin and resistance to second-line injectable agents\n",
      "rr_dr_fq Drug resistance surveillance  Number of new or previously treated bacteriologically confirmed pulmonary TB patients with resistance to rifampicin and resistance to fluoroquinolones\n",
      "rr_dr_fq_2li Drug resistance surveillance  Number of new or previously treated bacteriologically confirmed pulmonary TB patients with resistance to rifampicin and resistance to both fluoroquinolones and second-line injectable agents\n",
      "rr_ds_fq2li Drug resistance surveillance  Number of new or previously treated bacteriologically confirmed pulmonary TB patients with resistance to rifampicin and susceptible to both fluoroquinolones and second-line injectable agents\n",
      "rr_dst_rlt Drug resistance surveillance  Number of new or previously treated bacteriologically confirmed pulmonary TB patients with resistance to rifampicin and with test results for any fluoroquinolone and any second-line injectable agent\n",
      "rr_hivneg Drug resistance surveillance  Among patients with results for rifampicin testing in r_rlt_new and r_rlt_ret, number resistant to rifampicin and who are HIV-negative\n",
      "rr_hivpos Drug resistance surveillance  Among patients with results for rifampicin testing in r_rlt_new and r_rlt_ret, number resistant to rifampicin and who are HIV-positive\n",
      "rr_hivunk Drug resistance surveillance  Among patients with results for rifampicin testing in r_rlt_new and r_rlt_ret, number resistant to rifampicin and whose HIV status is unknown\n",
      "rr_new Drug resistance surveillance  Number of new bacteriologically confirmed pulmonary TB patients with resistance to rifampicin (RR-TB)\n",
      "rr_ret Drug resistance surveillance  Number of previously treated bacteriologically confirmed pulmonary TB patients with resistance to rifampicin (RR-TB)\n",
      "xdr Drug resistance surveillance  Drug resistance surveillance: Among pulmonary MDR-TB patients with drug susceptibility test results for any fluoroquinolone (FQ) and any second-line injectable agent (2LI) (variable mdr_dst_rlt): number with any resistance to both FQ and 2LI (i.e. XDR-TB)\n",
      "c_cdr Estimates  Case detection rate (all forms) [also known as TB treatment coverage], percent\n",
      "c_cdr_hi Estimates  Case detection rate (all forms) [also known as TB treatment coverage], percent, high bound\n",
      "c_cdr_lo Estimates  Case detection rate (all forms) [also known as TB treatment coverage], percent, low bound\n",
      "c_newinc_100k Estimates  Case notification rate, which is the total of new and relapse cases and cases with unknown previous TB treatment history per 100 000 population (calculated)\n",
      "cfr Estimates  Estimated TB case fatality ratio\n",
      "cfr_hi Estimates  Estimated TB case fatality ratio: high bound\n",
      "cfr_lo Estimates  Estimated TB case fatality ratio: low bound\n",
      "cfr_pct Estimates  Estimated TB case fatality ratio expressed as a percentage\n",
      "cfr_pct_hi Estimates  Estimated TB case fatality ratio: high bound expressed as a percentage\n",
      "cfr_pct_lo Estimates  Estimated TB case fatality ratio: low bound expressed as a percentage\n",
      "e_inc_100k Estimates  Estimated incidence (all forms) per 100 000 population\n",
      "e_inc_100k_hi Estimates  Estimated incidence (all forms) per 100 000 population, high bound\n",
      "e_inc_100k_lo Estimates  Estimated incidence (all forms) per 100 000 population, low bound\n",
      "e_inc_num Estimates  Estimated number of incident cases (all forms)\n",
      "e_inc_num_hi Estimates  Estimated number of incident cases (all forms), high bound\n",
      "e_inc_num_lo Estimates  Estimated number of incident cases (all forms), low bound\n",
      "e_inc_rr_num Estimates  Estimated incidence of rifampicin resistant TB (absolute number)\n",
      "e_inc_rr_num_hi Estimates  Estimated incidence of rifampicin resistant TB (absolute number): high bound\n",
      "e_inc_rr_num_lo Estimates  Estimated incidence of rifampicin resistant TB (absolute number): low bound\n",
      "e_inc_tbhiv_100k Estimates  Estimated incidence of TB cases who are HIV-positive per 100 000 population\n",
      "e_inc_tbhiv_100k_hi Estimates  Estimated incidence of TB cases who are HIV-positive per 100 000 population, high bound\n",
      "e_inc_tbhiv_100k_lo Estimates  Estimated incidence of TB cases who are HIV-positive per 100 000 population, low bound\n",
      "e_inc_tbhiv_num Estimates  Estimated incidence of TB cases who are HIV-positive\n",
      "e_inc_tbhiv_num_hi Estimates  Estimated incidence of TB cases who are HIV-positive, high bound\n",
      "e_inc_tbhiv_num_lo Estimates  Estimated incidence of TB cases who are HIV-positive, low bound\n",
      "e_mdr_pct_rr Estimates  Estimated percentage of rifampicin resistant TB cases that have MDR-TB\n",
      "e_mdr_pct_rr_new Estimates  Estimated percentage of new rifampicin resistant TB cases that have MDR-TB\n",
      "e_mdr_pct_rr_ret Estimates  Estimated percentage of previously treated rifampicin resistant TB cases that have MDR-TB\n",
      "e_mort_100k Estimates  Estimated mortality of TB cases (all forms) per 100 000 population\n",
      "e_mort_100k_hi Estimates  Estimated mortality of TB cases (all forms) per 100 000 population, high bound\n",
      "e_mort_100k_lo Estimates  Estimated mortality of TB cases (all forms) per 100 000 population, low bound\n",
      "e_mort_exc_tbhiv_100k Estimates  Estimated mortality of TB cases (all forms, excluding HIV) per 100 000 population\n",
      "e_mort_exc_tbhiv_100k_hi Estimates  Estimated mortality of TB cases (all forms, excluding HIV), per 100 000 population, high bound\n",
      "e_mort_exc_tbhiv_100k_lo Estimates  Estimated mortality of TB cases (all forms, excluding HIV), per 100 000 population, low bound\n",
      "e_mort_exc_tbhiv_num Estimates  Estimated number of deaths from TB (all forms, excluding HIV)\n",
      "e_mort_exc_tbhiv_num_hi Estimates  Estimated number of deaths from TB (all forms, excluding HIV), high bound\n",
      "e_mort_exc_tbhiv_num_lo Estimates  Estimated number of deaths from TB (all forms, excluding HIV), low bound\n",
      "e_mort_num Estimates  Estimated number of deaths from TB (all forms)\n",
      "e_mort_num_hi Estimates  Estimated number of deaths from TB (all forms), high bound\n",
      "e_mort_num_lo Estimates  Estimated number of deaths from TB (all forms), low bound\n",
      "e_mort_tbhiv_100k Estimates  Estimated mortality of TB cases who are HIV-positive, per 100 000 population\n",
      "e_mort_tbhiv_100k_hi Estimates  Estimated mortality of TB cases who are HIV-positive, per 100 000 population, high bound\n",
      "e_mort_tbhiv_100k_lo Estimates  Estimated mortality of TB cases who are HIV-positive, per 100 000 population, low bound\n",
      "e_mort_tbhiv_num Estimates  Estimated number of deaths from TB in people who are HIV-positive\n",
      "e_mort_tbhiv_num_hi Estimates  Estimated number of deaths from TB in people who are HIV-positive, high bound\n",
      "e_mort_tbhiv_num_lo Estimates  Estimated number of deaths from TB in people who are HIV-positive, low bound\n",
      "e_pop_num Estimates  Estimated total population number\n",
      "e_rr_in_notified_labconf_pulm Estimates  Estimated number of RR-TB cases among notified bacteriologically confirmed pulmonary TB cases\n",
      "e_rr_in_notified_labconf_pulm_hi Estimates  Estimated number of RR-TB cases among notified bacteriologically confirmed pulmonary TB cases: high bound\n",
      "e_rr_in_notified_labconf_pulm_lo Estimates  Estimated number of RR-TB cases among notified bacteriologically confirmed pulmonary TB cases: low bound\n",
      "e_rr_pct_new Estimates  Estimated percentage of new TB cases with rifampicin resistant TB\n",
      "e_rr_pct_new_hi Estimates  Estimated percentage of new TB cases with rifampicin resistant TB: high bound\n",
      "e_rr_pct_new_lo Estimates  Estimated percentage of new TB cases with rifampicin resistant TB: low bound\n",
      "e_rr_pct_ret Estimates  Estimated percentage of previously treated TB cases with rifampicin resistant TB\n",
      "e_rr_pct_ret_hi Estimates  Estimated percentage of previously treated TB cases with rifampicin resistant TB: high bound\n",
      "e_rr_pct_ret_lo Estimates  Estimated percentage of previously treated TB cases with rifampicin resistant TB: low bound\n",
      "e_tbhiv_prct Estimates  Estimated HIV in incident TB (percent)\n",
      "e_tbhiv_prct_hi Estimates  Estimated HIV in incident TB (percent), high bound\n",
      "e_tbhiv_prct_lo Estimates  Estimated HIV in incident TB (percent), low bound\n",
      "source_drs_coverage_new Estimates  Indicates whether national or subnational data from drug resistance surveys or surveillance was used to estimate the proportion of new TB cases with MDR-TB\n",
      "source_drs_coverage_ret Estimates  Indicates whether national or subnational data from drug resistance surveys or surveillance was used to estimate the proportion of previously treated TB cases with MDR-TB\n",
      "source_drs_year_new Estimates  Year of drug resistance surveillance, survey or model used to estimate proportion of new TB cases with MDR-TB\n",
      "source_drs_year_ret Estimates  Year of drug resistance surveillance, survey or model used to estimate proportion of previously treated TB cases with MDR-TB\n",
      "source_rr_new Estimates  Method used to estimate proportion of new TB patients with rifampicin-resistant TB\n",
      "source_rr_ret Estimates  Method used to estimate proportion of previously treated TB patients with rifampicin-resistant TB\n",
      "exp_cpp_dstb Expenditure and utilisation  Average cost of drugs spent per patient starting first-line TB treatment, excluding buffer stock (US Dollars)\n",
      "exp_cpp_mdr Expenditure and utilisation  Average cost of drugs spent per patient starting second-line treatment for MDR-TB, excluding buffer stock (US Dollars)\n",
      "exp_cpp_xdr Expenditure and utilisation  Average cost of drugs spent per patient starting XDR-TB treatment, excluding buffer stock (US Dollars)\n",
      "exp_fld Expenditure and utilisation  Actual expenditure on drugs to treat drug-susceptible TB (US Dollars)\n",
      "exp_lab Expenditure and utilisation  Actual expenditure on laboratory infrastructure, equipment and supplies (US Dollars)\n",
      "exp_mdrmgt Expenditure and utilisation  Actual expenditure on programme costs to treat drug-resistant TB (US Dollars)\n",
      "exp_orsrvy Expenditure and utilisation  Actual expenditure on operational research and surveys (US Dollars)\n",
      "exp_oth Expenditure and utilisation  Actual expenditure on all other budget line items (US Dollars)\n",
      "exp_patsup Expenditure and utilisation  Actual expenditure on patient support (US Dollars)\n",
      "exp_prog Expenditure and utilisation  Actual expenditure on programme costs to treat drug-susceptible TB (US Dollars)\n",
      "exp_sld Expenditure and utilisation  Actual expenditure on drugs to treat drug-resistant TB (US Dollars)\n",
      "exp_staff Expenditure and utilisation  Actual expenditure on National TB Programme staff (central unit staff and subnational TB staff)  (US Dollars)\n",
      "exp_tbhiv Expenditure and utilisation  Actual expenditure on collaborative TB/HIV activities (US Dollars)\n",
      "exp_tot Expenditure and utilisation  Total actual expenditure (US Dollars)\n",
      "hcfvisit_dstb Expenditure and utilisation  Typical number of visits to a health facility after diagnosis for patients starting first-line TB treatment\n",
      "hcfvisit_mdr Expenditure and utilisation  Typical number of visits to a health facility after diagnosis for patients starting MDR-TB/XDR-TB treatment\n",
      "hosp_type_mdr Expenditure and utilisation 2=Not applicable; 140=Primary-level hospital; 141=Secondary-level hospital; 142= Tertiary-level hospital Type of facility most often used if MDR-TB patients are hospitalized\n",
      "hospd_dstb_dur Expenditure and utilisation  Estimated average duration of stay if patients starting first-line TB treatment are hospitalized (days)\n",
      "hospd_dstb_prct Expenditure and utilisation  Estimated percentage of patients starting first-line TB treatment that are hospitalized (%)\n",
      "hospd_mdr_dur Expenditure and utilisation  Estimated average duration of stay if patients starting MDR-TB/XDR-TB treatment are hospitalized (days)\n",
      "hospd_mdr_prct Expenditure and utilisation  Estimated percentage of patients starting MDR-TB/XDR-TB treatment that are hospitalized (%)\n",
      "rcvd_fld Expenditure and utilisation  Funding received for drugs to treat drug-susceptible TB (US Dollars)\n",
      "rcvd_lab Expenditure and utilisation  Funding received for laboratory infrastructure, equipment and supplies (US Dollars)\n",
      "rcvd_mdrmgt Expenditure and utilisation  Funding received for programme costs to treat drug-resistant TB (US Dollars)\n",
      "rcvd_orsrvy Expenditure and utilisation  Funding received for operational research and surveys (US Dollars)\n",
      "rcvd_oth Expenditure and utilisation  Funding received for all other budget line items (US Dollars)\n",
      "rcvd_patsup Expenditure and utilisation  Funding received for patient support (US Dollars)\n",
      "rcvd_prog Expenditure and utilisation  Funding received for programme costs to treat drug-susceptible TB (US Dollars)\n",
      "rcvd_sld Expenditure and utilisation  Funding received for drugs to treat drug-resistant TB (US Dollars)\n",
      "rcvd_staff Expenditure and utilisation  Funding received for National TB Programme staff (central unit staff and subnational TB staff)  (US Dollars)\n",
      "rcvd_tbhiv Expenditure and utilisation  Funding received for collaborative TB/HIV activities (US Dollars)\n",
      "rcvd_tot Expenditure and utilisation  Total funding received for all budget line items (US Dollars)\n",
      "rcvd_tot_domestic Expenditure and utilisation  Funding received from domestic sources, including loans (US Dollars)\n",
      "rcvd_tot_gf Expenditure and utilisation  Funding received from the Global Fund to Fight AIDS, Tuberculosis and Malaria (US Dollars)\n",
      "rcvd_tot_grnt Expenditure and utilisation  Funding received from other sources (US Dollars)\n",
      "rcvd_tot_sources Expenditure and utilisation  Total funding received from all sources (US Dollars)\n",
      "rcvd_tot_usaid Expenditure and utilisation  Funding received from USAID (US Dollars)\n",
      "collab_private_lab Laboratories 0=No; 1=yes Were any non-NTP laboratories in the private sector (including NGOs) collaborating with the NTP?\n",
      "collab_public_lab Laboratories 0=No; 1=yes Were any non-NTP laboratories in the public sector collaborating with the NTP?\n",
      "culture Laboratories  Number of sites providing TB diagnostic services using culture at the end of the reporting year\n",
      "dst Laboratories  Number of sites providing phenotypic drug susceptibility testing for first-line drugs only at the end of the reporting year\n",
      "dst_eqa_pass Laboratories  Number of sites providing phenotypic drug susceptibility testing for first-line drugs only that demonstrated proficiency by panel testing\n",
      "lab_cul Laboratories  Number of laboratories providing TB diagnostic services using culture\n",
      "lab_dst Laboratories  Number of laboratories providing TB diagnostic services using drug susceptibility testing\n",
      "lab_dst_eqa Laboratories  Number of drug susceptibility testing laboratories for which External Quality Assessment (EQA) was carried out\n",
      "lab_dst_eqa_pass Laboratories  Number of drug susceptibility testing laboratories which demonstrated acceptable performance\n",
      "lab_lpa Laboratories  Number of laboratories providing TB diagnostic services using Line Probe Assay (LPA) rifampicin\n",
      "lab_lpa_eqa Laboratories  Number of Line Probe Assay (LPA) rifampicin  laboratories for which External Quality Assessment (EQA) was carried out\n",
      "lab_lpa_eqa_pass Laboratories  Number of Line Probe Assay (LPA) rifampicin laboratories which demonstrated acceptable performance\n",
      "lab_sm Laboratories  Number of laboratories providing TB diagnostic services using smear microscopy\n",
      "lab_sm_eqa Laboratories  Number of smear microscopy laboratories for which External Quality Assessment (EQA) was carried out\n",
      "lab_sm_eqa_pass Laboratories  Number of smear microscopy laboratories which demonstrated acceptable performance\n",
      "lab_sm_led Laboratories  Number of laboratories providing TB diagnostic services using LED microscopes for smear microscopy\n",
      "lab_xpert Laboratories  Number of laboratories providing TB diagnostic services using xpert MTB/RIF\n",
      "lab_xpert_eqa Laboratories  Number of laboratories providing TB diagnostic services using xpert MTB/RIF for which External Quality Assessment (EQA) was carried out\n",
      "lpa Laboratories  Number of sites providing Line Probe Assay services at the end of the reporting year\n",
      "lpa_eqa_pass Laboratories  Number of sites providing Line Probe Assay services that demonstrated proficiency by panel testing\n",
      "nrl Laboratories 0=No; 1=yes Was there a national reference laboratory or laboratories (NRL)?\n",
      "nrl_iso15189 Laboratories 0=No; 1=yes Has the national reference laboratory (or national reference laboratories) achieved national or international accreditation according to the ISO 15189 standard?\n",
      "nrl_qms Laboratories 0=No; 1=yes Has a formal quality management system towards achieving laboratory accreditation been implemented at the National Reference Laboratory?\n",
      "nrl_srl_link Laboratories 0=No; 1=yes Has a formal link been established between the National Reference Laboratory and a partner Supranational Reference Laboratory?\n",
      "qms Laboratories 0=No; 1=yes Is a formal quality management system towards achieving accreditation being implemented in all laboratories conducting culture, LPA and/or DST?\n",
      "sldst Laboratories  Number of sites providing phenotypic drug susceptibility testing for first-line drugs and second-line drugs at the end of the reporting year\n",
      "sldst_avail_incntry Laboratories 0=No; 1=yes Was second-line drug susceptibility testing available within the country for TB National Treatment Programme patients?\n",
      "sldst_avail_outcntry Laboratories 0=No; 1=yes Was second-line drug susceptibility testing available outside the country for TB National Treatment Programme patients?\n",
      "sldst_eqa_pass Laboratories  Number of sites providing phenotypic drug susceptibility testing for first-line drugs and second-line drugs that demonstrated proficiency by panel testing\n",
      "sllpa Laboratories  Number of sites providing Line Probe Assay (LPA) services for rifampicin, isoniazid, fluoroquinolones, second-line injectables\n",
      "sllpa_eqa_pass Laboratories  Number of sites providing Line Probe Assay (LPA) services for rifampicin, isoniazid, fluoroquinolones, second-line injectables that demonstrated proficiency by panel testing\n",
      "smear Laboratories  Number of sites providing TB diagnostic services using smear microscopy at the end of the reporting year\n",
      "smear_eqa Laboratories  Number of sites providing TB diagnostic services using smear microscopy covered by a comprehensive EQA system\n",
      "xpert Laboratories  Number of sites providing TB diagnostic services using Xpert MTB/RIF at the end of the reporting year\n",
      "xpert_eqa Laboratories  Number of sites providing TB diagnostic services using Xpert MTB/RIF covered by a comprehensive EQA system\n",
      "xpert_etrans Laboratories  Number of sites using Xpert MTB/RIF which transmit results automatically to clinicians and to an information management system\n",
      " e_prevtx_kids_pct Latent TB infection  Estimated % of children received TB preventive therapy aged under 5 who are household contacts of TB cases and who are eligible for TB preventive therapy\n",
      " e_prevtx_kids_pct_hi Latent TB infection  Estimated % of children received TB preventive therapy aged under 5 who are household contacts of TB cases and who are eligible for TB preventive therapy: High bound\n",
      " e_prevtx_kids_pct_lo Latent TB infection  Estimated % of children received TB preventive therapy aged under 5 who are household contacts of TB cases and who are eligible for TB preventive therapy: Low bound\n",
      "e_hh_size Latent TB infection  Estimated average household size\n",
      "e_prevtx_eligible Latent TB infection  Estimated number of children aged under 5 who are household contacts of TB cases who are eligible for TB preventive therapy\n",
      "e_prevtx_eligible_hi Latent TB infection  Estimated number of children aged under 5 who are household contacts of TB cases who are eligible for TB preventive therapy: high bound\n",
      "e_prevtx_eligible_lo Latent TB infection  Estimated number of children aged under 5 who are household contacts of TB cases who are eligible for TB preventive therapy: low bound\n",
      "newinc_con04_prevtx Latent TB infection  (If prevtx_data_available=60) Number of children aged under 5 started on TB preventive treatment who are household contacts of bacteriologically-confirmed new and relapse TB cases notified\n",
      "ptsurvey_newinc Latent TB infection  (If prevtx_data_available=61) Number of bacteriologically-confirmed TB new and relapse cases notified in the reporting year whose medical records or treatment cards were included in a survey\n",
      "ptsurvey_newinc_con04_prevtx Latent TB infection  (If prevtx_data_available=61) Number of children aged under 5 started on TB preventive treatment who are household contacts of the TB cases in ptsurvey_newinc\n",
      "source_hh Latent TB infection  Source of estimate of average household size\n",
      "prevtx_data_available LTBI/Policies and services 0=No; 60= Yes available from the routine surveillance system; 61=Yes  estimated from a survey of a random sample of medical records or treatment cards of TB patients representative of the national TB patient population Are data available on the number of household contacts of TB cases started on TB preventive treatment?\n",
      "tbhiv_sentin_cil Non-routine HIV surveillance  Lower limit (95% confidence interval) of prevalence (%) of HIV in TB patients estimated using sentinel sites\n",
      "tbhiv_sentin_ciu Non-routine HIV surveillance  Upper limit (95% confidence interval) of prevalence (%) of HIV in TB patients estimated using sentinel sites\n",
      "tbhiv_sentin_prev Non-routine HIV surveillance  Prevalence (%) of HIV in TB patients estimated using sentinel sites\n",
      "tbhiv_sentin_yr Non-routine HIV surveillance  Year in which prevalence of HIV in TB patients was estimated using sentinel sites\n",
      "tbhiv_surv_cil Non-routine HIV surveillance  Lower limit (95% confidence interval) of prevalence (%) of HIV in TB patients estimated using nationwide representative surveys\n",
      "tbhiv_surv_ciu Non-routine HIV surveillance  Upper limit (95% confidence interval) of prevalence (%) of HIV in TB patients estimated using nationwide representative surveys\n",
      "tbhiv_surv_prev Non-routine HIV surveillance  Prevalence (%) of HIV in TB patients estimated using nationwide representative\n",
      "surveys\n",
      "tbhiv_surv_yr Non-routine HIV surveillance  Year in which prevalence of HIV in TB patients was estimated using nationwide representative surveys\n",
      "all_conf_xdr Notification  Number of laboratory-confirmed XDR-TB cases identified in the current year (including in MDR cases diagnosed in previous years).\n",
      "c_newinc Notification  Total of new and relapse cases and cases with unknown previous TB treatment history\n",
      "conf_mdr Notification  Number of laboratory-confirmed MDR-TB cases identified\n",
      "conf_mdr_tx Notification  Number of laboratory-confirmed MDR-TB patients who started treatment for MDR-TB\n",
      "conf_rrmdr Notification  Number of laboratory-confirmed RR-TB or MDR-TB cases identified\n",
      "conf_rrmdr_tx Notification  Number of laboratory-confirmed rifampicin-resistant (RR-TB) or multidrug-resistant TB (MDR-TB) patients who started treatment for MDR-TB\n",
      "conf_xdr_tx Notification  Number of laboratory-confirmed XDR-TB patients who started treatment for XDR-TB\n",
      "hiv_art Notification  HIV-positive TB patients started or continued on antiretroviral therapy (ART)\n",
      "hiv_cpt Notification  HIV-positive TB patients started or continued on co-trimoxazole preventive therapy (CPT)\n",
      "hiv_ipt Notification  People living with HIV newly enrolled in HIV care who started treatment for latent TB infection\n",
      "hiv_ipt_reg_all Notification  People living with HIV currently enrolled in HIV care who started treatment for latent TB infection\n",
      "hiv_reg Notification  Total number of people registered as HIV-positive regardless of year of diagnosis. (Total number of adults and children enrolled in HIV care; includes everyone in the HIV care and/or ART register)\n",
      "hiv_reg_all Notification  Number of adults and children currently enrolled in HIV care during the year.\n",
      "hiv_reg_new Notification  Number of adults and children newly enrolled in HIV care during the year.\n",
      "hiv_reg_new2 Notification  Total number of adults and children newly enrolled in pre-ART care or on ART during the reporting period\n",
      "hiv_tbdetect Notification  Total number of adults and children newly enrolled in HIV care who are diagnosed as having active TB disease during the reporting period\n",
      "hiv_tbscr Notification  Number of adults and children enrolled in HIV care who had their TB status assessed and recorded during their last visit\n",
      "hivtest Notification  TB patients (new and re-treatment) with an HIV test result recorded in the TB register\n",
      "hivtest_pos Notification  TB patients (new and re-treatment) recorded as HIV-positive\n",
      "mdr_shortreg_tx Notification  Number of patients started on shorter MDR-TB treatment regiments during the reporting year\n",
      "mdr_shortreg_used Notification 0=No; 1=Yes; 3=Don't know Had any patients been started on shorter MDR-TB treatment regimens by the end of the reporting year?\n",
      "mdr_tx_adsm Notification  Number of patients actively monitored for adverse events while on MDR-TB treatment in the reporting year\n",
      "mdr_tx_adverse_events Notification  Number of patients on MDR-TB treatment who had adverse events registered in the reporting year\n",
      "mdrxdr_bdq_tx Notification  Number of patients started on Bedaquiline during the reporting year\n",
      "mdrxdr_bdq_used Notification 0=No; 1=Yes; 3=Don't know Had any TB patients been started on Bedaquiline for the treatment of MDR-/XDR-TB by the end of reporting year as part of expanded access, compassionate use or under normal programmatic use, whether in the public or private sector?\n",
      "mdrxdr_dlm_tx Notification  Number of patients started on Delamanid during the reporting year\n",
      "mdrxdr_dlm_used Notification 0=No; 1=Yes; 3=Don't know Had any TB patients been started on Delamanid for the treatment of MDR-/XDR-TB by the end of reporting as part of expanded access, compassionate use or under normal programmatic use, whether in the public or private sector?\n",
      "new_clindx Notification  New pulmonary clinically diagnosed TB cases (not bacteriologically confirmed as positive for TB, but diagnosed with active TB by a clinician or another medical practitioner who has decided to give the patient a full course of TB treatment).  It also includes pulmonary clinically diagnosed cases with unknown previous TB treatment history.\n",
      "new_ep Notification  New extrapulmonary cases (bacteriologically confirmed or clinically diagnosed). As of 2013 this also includes extrapulmonary cases with unknown previous TB treatment history.\n",
      "new_ep_f014 Notification  New extrapulmonary cases: females aged 0-14 years (not used after 2012)\n",
      "new_ep_f04 Notification  New extrapulmonary cases: females aged 0-4 years (not used after 2012)\n",
      "new_ep_f1524 Notification  New extrapulmonary cases: females aged 15-24 years (not used after 2012)\n",
      "new_ep_f15plus Notification  New extrapulmonary cases: females aged 15 years and over (not used after 2012)\n",
      "new_ep_f2534 Notification  New extrapulmonary cases: females aged 25-34 years (not used after 2012)\n",
      "new_ep_f3544 Notification  New extrapulmonary cases: females aged 35-44 years (not used after 2012)\n",
      "new_ep_f4554 Notification  New extrapulmonary cases: females aged 45-54 years (not used after 2012)\n",
      "new_ep_f514 Notification  New extrapulmonary cases: females aged 5-14 years (not used after 2012)\n",
      "new_ep_f5564 Notification  New extrapulmonary cases: females aged 55-64 years (not used after 2012)\n",
      "new_ep_f65 Notification  New extrapulmonary cases: females aged 65 years and over (not used after 2012)\n",
      "new_ep_fu Notification  New extrapulmonary cases: females age unknown (not used after 2012)\n",
      "new_ep_m014 Notification  New extrapulmonary cases: males aged 0-14 years (not used after 2012)\n",
      "new_ep_m04 Notification  New extrapulmonary cases: males aged 0-4 years (not used after 2012)\n",
      "new_ep_m1524 Notification  New extrapulmonary cases: males aged 15-24 years (not used after 2012)\n",
      "new_ep_m15plus Notification  New extrapulmonary cases: males aged 15 years and over (not used after 2012)\n",
      "new_ep_m2534 Notification  New extrapulmonary cases: males aged 25-34 years (not used after 2012)\n",
      "new_ep_m3544 Notification  New extrapulmonary cases: males aged 35-44 years (not used after 2012)\n",
      "new_ep_m4554 Notification  New extrapulmonary cases: males aged 45-54 years (not used after 2012)\n",
      "new_ep_m514 Notification  New extrapulmonary cases: males aged 5-14 years (not used after 2012)\n",
      "new_ep_m5564 Notification  New extrapulmonary cases: males aged 55-64 years (not used after 2012)\n",
      "new_ep_m65 Notification  New extrapulmonary cases: males aged 65 years and over (not used after 2012)\n",
      "new_ep_mu Notification  New extrapulmonary cases: males age unknown (not used after 2012)\n",
      "new_ep_sexunk014 Notification  New extrapulmonary cases: sex unknown, aged 0-14 years (not used after 2012)\n",
      "new_ep_sexunk04 Notification  New extrapulmonary cases: sex unknown, aged 0-4 years (not used after 2012)\n",
      "new_ep_sexunk15plus Notification  New extrapulmonary cases: sex unknown, aged 15 years and over (not used after 2012)\n",
      "new_ep_sexunk514 Notification  New extrapulmonary cases: sex unknown, aged 5-14 years (not used after 2012)\n",
      "new_ep_sexunkageunk Notification  New extrapulmonary cases: sex unknown, age unknown (not used after 2012)\n",
      "new_labconf Notification  New pulmonary bacteriologically confirmed TB cases (smear positive or culture positive or positive by WHO-recommended rapid diagnostics such as Xpert MTB/RIF). As of 2013 this also includes pulmonary bacteriologically confirmed cases with unknown previous TB treatment history.\n",
      "new_oth Notification  Other new cases (not used after 2012)\n",
      "new_sn Notification  New pulmonary smear-negative cases (not used after 2012)\n",
      "new_sn_f014 Notification  New pulmonary smear negative/smear unknown/smear not done cases: females aged 0-14 years (not used after 2012)\n",
      "new_sn_f04 Notification  New pulmonary smear negative/smear unknown/smear not done cases: females aged 0-4 years (not used after 2012)\n",
      "new_sn_f1524 Notification  New pulmonary smear negative/smear unknown/smear not done cases: females aged 15-24 years (not used after 2012)\n",
      "new_sn_f15plus Notification  New pulmonary smear negative/smear unknown/smear not done cases: females aged 15 years and over (not used after 2012)\n",
      "new_sn_f2534 Notification  New pulmonary smear negative/smear unknown/smear not done cases: females aged 25-34 years (not used after 2012)\n",
      "new_sn_f3544 Notification  New pulmonary smear negative/smear unknown/smear not done cases: females aged 35-44 years (not used after 2012)\n",
      "new_sn_f4554 Notification  New pulmonary smear negative/smear unknown/smear not done cases: females aged 45-54 years (not used after 2012)\n",
      "new_sn_f514 Notification  New pulmonary smear negative/smear unknown/smear not done cases: females aged 5-14 years (not used after 2012)\n",
      "new_sn_f5564 Notification  New pulmonary smear negative/smear unknown/smear not done cases: females aged 55-64 years (not used after 2012)\n",
      "new_sn_f65 Notification  New pulmonary smear negative/smear unknown/smear not done cases: females aged 65 years and over (not used after 2012)\n",
      "new_sn_fu Notification  New pulmonary smear negative/smear unknown/smear not done cases: females age unknown (not used after 2012)\n",
      "new_sn_m014 Notification  New pulmonary smear negative/smear unknown/smear not done cases: males aged 0-14 years (not used after 2012)\n",
      "new_sn_m04 Notification  New pulmonary smear negative/smear unknown/smear not done cases: males aged 0-4 years (not used after 2012)\n",
      "new_sn_m1524 Notification  New pulmonary smear negative/smear unknown/smear not done cases: males aged 15-24 years (not used after 2012)\n",
      "new_sn_m15plus Notification  New pulmonary smear negative/smear unknown/smear not done cases: males aged 15 years and above (not used after 2012)\n",
      "new_sn_m2534 Notification  New pulmonary smear negative/smear unknown/smear not done cases: males aged 25-34 years (not used after 2012)\n",
      "new_sn_m3544 Notification  New pulmonary smear negative/smear unknown/smear not done cases: males aged 35-44 years (not used after 2012)\n",
      "new_sn_m4554 Notification  New pulmonary smear negative/smear unknown/smear not done cases: males aged 45-54 years (not used after 2012)\n",
      "new_sn_m514 Notification  New pulmonary smear negative/smear unknown/smear not done cases: males aged 5-14 years (not used after 2012)\n",
      "new_sn_m5564 Notification  New pulmonary smear negative/smear unknown/smear not done cases: males aged 55-64 years (not used after 2012)\n",
      "new_sn_m65 Notification  New pulmonary smear negative/smear unknown/smear not done cases: males aged 65 years and over (not used after 2012)\n",
      "new_sn_mu Notification  New pulmonary smear negative/smear unknown/smear not done cases: males age unknown (not used after 2012)\n",
      "new_sn_sexunk014 Notification  New pulmonary smear negative/smear unknown/smear not done cases: sex unknown, aged 0-14 years (not used after 2012)\n",
      "new_sn_sexunk04 Notification  New pulmonary smear negative/smear unknown/smear not done cases: sex unknown, aged 0-4 years (not used after 2012)\n",
      "new_sn_sexunk15plus Notification  New pulmonary smear negative/smear unknown/smear not done cases: sex unknown, aged 15 years and over (not used after 2012)\n",
      "new_sn_sexunk514 Notification  New pulmonary smear negative/smear unknown/smear not done cases: sex unknown, aged 5-14 years (not used after 2012)\n",
      "new_sn_sexunkageunk Notification  New pulmonary smear negative/smear unknown/smear not done cases: sex unknown, age unknown (not used after 2012)\n",
      "new_sp Notification  New pulmonary smear-positive cases (not used after 2012)\n",
      "new_sp_f014 Notification  New pulmonary smear positive cases: females aged 0-14 years (not used after 2012)\n",
      "new_sp_f04 Notification  New pulmonary smear positive cases: females aged 0-4 years (not used after 2012)\n",
      "new_sp_f1524 Notification  New pulmonary smear positive cases: females aged 15-24 years (not used after 2012)\n",
      "new_sp_f2534 Notification  New pulmonary smear positive cases: females aged 25-34 years (not used after 2012)\n",
      "new_sp_f3544 Notification  New pulmonary smear positive cases: females aged 35-44 years (not used after 2012)\n",
      "new_sp_f4554 Notification  New pulmonary smear positive cases: females aged 45-54 years (not used after 2012)\n",
      "new_sp_f514 Notification  New pulmonary smear positive cases: females aged 5-14 years (not used after 2012)\n",
      "new_sp_f5564 Notification  New pulmonary smear positive cases: females aged 55-64 years (not used after 2012)\n",
      "new_sp_f65 Notification  New pulmonary smear positive cases: females aged 65 and over (not used after 2012)\n",
      "new_sp_fu Notification  New pulmonary smear positive cases: females age unknown (not used after 2012)\n",
      "new_sp_m014 Notification  New pulmonary smear positive cases: males aged 0-14 years (not used after 2012)\n",
      "new_sp_m04 Notification  New pulmonary smear positive cases: males aged 0-4 years (not used after 2012)\n",
      "new_sp_m1524 Notification  New pulmonary smear positive cases: males aged 15-24 years (not used after 2012)\n",
      "new_sp_m2534 Notification  New pulmonary smear positive cases: males aged 25-34 years (not used after 2012)\n",
      "new_sp_m3544 Notification  New pulmonary smear positive cases: males aged 35-44 years (not used after 2012)\n",
      "new_sp_m4554 Notification  New pulmonary smear positive cases: males aged 45-54 years (not used after 2012)\n",
      "new_sp_m514 Notification  New pulmonary smear positive cases: males aged 5-14 years (not used after 2012)\n",
      "new_sp_m5564 Notification  New pulmonary smear positive cases: males aged 55-64 years (not used after 2012)\n",
      "new_sp_m65 Notification  New pulmonary smear positive cases: males aged 65 years and over (not used after 2012)\n",
      "new_sp_mu Notification  New pulmonary smear positive cases: males age unknown (not used after 2012)\n",
      "new_su Notification  New pulmonary smear unknown/not done cases\n",
      "newinc_rdx Notification  (if rdx_data_available=60) Number of new and relapse cases notified and tested using a WHO-recommended rapid diagnostic (for example Xpert MTB/RIF) at the time of TB diagnosis (regardless of test result)\n",
      "newrel_art Notification  HIV-positive new and relapse (or all, if newrel_tbhiv_flg = 0 and year > 2015) TB patients started or continued on antiretroviral therapy\n",
      "newrel_f014 Notification  New and relapse cases (but only new cases if rel_in_agesex_flg = 0): females aged 0-14 years\n",
      "newrel_f04 Notification  New and relapse cases (but only new cases if rel_in_agesex_flg = 0): females aged 0-4 years\n",
      "newrel_f1524 Notification  New and relapse cases (but only new cases if rel_in_agesex_flg = 0): females aged 15-24 years\n",
      "newrel_f15plus Notification  New and relapse cases (but only new cases if rel_in_agesex_flg = 0): females aged 15 years and over\n",
      "newrel_f2534 Notification  New and relapse cases (but only new cases if rel_in_agesex_flg = 0): females aged 25-34 years\n",
      "newrel_f3544 Notification  New and relapse cases (but only new cases if rel_in_agesex_flg = 0): females aged 35-44 years\n",
      "newrel_f4554 Notification  New and relapse cases (but only new cases if rel_in_agesex_flg = 0): females aged 45-54 years\n",
      "newrel_f514 Notification  New and relapse cases (but only new cases if rel_in_agesex_flg = 0): females aged 5-14 years\n",
      "newrel_f5564 Notification  New and relapse cases (but only new cases if rel_in_agesex_flg = 0): females aged 55-64 years\n",
      "newrel_f65 Notification  New and relapse cases (but only new cases if rel_in_agesex_flg = 0): females aged 65 years and over\n",
      "newrel_fu Notification  New and relapse cases (but only new cases if rel_in_agesex_flg = 0): females age unknown\n",
      "newrel_hivpos Notification  Number of new and relapse  (or all, if newrel_tbhiv_flg = 0 and year > 2015) TB patients recorded as HIV-positive\n",
      "newrel_hivtest Notification  Number of new and relapse (or all, if newrel_tbhiv_flg = 0 and year > 2015) TB patients tested for HIV at the time of TB diagnosis or with known HIV status at the time of TB diagnosis\n",
      "newrel_m014 Notification  New and relapse cases (but only new cases if rel_in_agesex_flg = 0): males aged 0-14 years\n",
      "newrel_m04 Notification  New and relapse cases (but only new cases if rel_in_agesex_flg = 0): males aged 0-4 years\n",
      "newrel_m1524 Notification  New and relapse cases (but only new cases if rel_in_agesex_flg = 0): males aged 15-24 years\n",
      "newrel_m15plus Notification  New and relapse cases (but only new cases if rel_in_agesex_flg = 0): males aged 15 years and over\n",
      "newrel_m2534 Notification  New and relapse cases (but only new cases if rel_in_agesex_flg = 0): males aged 25-34 years\n",
      "newrel_m3544 Notification  New and relapse cases (but only new cases if rel_in_agesex_flg = 0): males aged 35-44 years\n",
      "newrel_m4554 Notification  New and relapse cases (but only new cases if rel_in_agesex_flg = 0): males aged 45-54 years\n",
      "newrel_m514 Notification  New and relapse cases (but only new cases if rel_in_agesex_flg = 0): males aged 5-14 years\n",
      "newrel_m5564 Notification  New and relapse cases (but only new cases if rel_in_agesex_flg = 0): males aged 55-64 years\n",
      "newrel_m65 Notification  New and relapse cases (but only new cases if rel_in_agesex_flg = 0): males aged 65 years and over\n",
      "newrel_mu Notification  New and relapse cases (but only new cases if rel_in_agesex_flg = 0): males age unknown\n",
      "newrel_sexunk014 Notification  New and relapse cases (but only new cases if rel_in_agesex_flg = 0): sex unknown, aged 0-14 years\n",
      "newrel_sexunk04 Notification  New and relapse cases (but only new cases if rel_in_agesex_flg = 0): sex unknown, aged 0-4 years\n",
      "newrel_sexunk15plus Notification  New and relapse cases (but only new cases if rel_in_agesex_flg = 0): sex unknown, aged 15 years and over\n",
      "newrel_sexunk514 Notification  New and relapse cases (but only new cases if rel_in_agesex_flg = 0): sex unknown, aged 5-14 years\n",
      "newrel_sexunkageunk Notification  New and relapse cases (but only new cases if rel_in_agesex_flg = 0): sex unknown, age unknown\n",
      "newrel_tbhiv_flg Notification 0=No; 1=Yes. Are data on HIV testing, HIV positivity and provision of antiretroviral therapy (ART) restricted to new and relapse TB cases only?\n",
      "newret_oth Notification  Other cases not included in new and re-treatment case numbers\n",
      "notif_foreign Notification  New and re-treatment TB cases among foreign-born individuals\n",
      "rdst_new Notification  Number of TB cases (pulmonary or extrapulmonary) tested for susceptibility to rifampicin using phenotypic DST or WHO-recommended rapid molecular diagnostics (e.g. Xpert MTB/RIF), before or after starting treatment: new cases\n",
      "rdst_ret Notification  Number of TB cases (pulmonary or extrapulmonary) tested for susceptibility to rifampicin using phenotypic DST or WHO-recommended rapid molecular diagnostics (e.g. Xpert MTB/RIF), before or after starting treatment: previously treated cases\n",
      "rdst_unk Notification  Number of TB cases (pulmonary or extrapulmonary) tested for susceptibility to rifampicin using phenotypic DST or WHO-recommended rapid molecular diagnostics (e.g. Xpert MTB/RIF), before or after starting treatment: cases with unknown previous TB treatment history\n",
      "rdx_data_available Notification 0=No; 60= Yes available from the routine surveillance system; 61=Yes  estimated from a survey of a random sample of medical records or treatment cards of TB patients representative of the national TB patient population Are data available on the number of new and relapse cases tested using a WHO-recommended rapid diagnostic during the reporting year?\n",
      "rdxsurvey_newinc Notification  (if rdx_data_available=61) Number of new and relapse cases whose medical records or treatment cards were included in the survey\n",
      "rdxsurvey_newinc_rdx Notification  (if rdx_data_available=61) Among the cases reported in rdxsurvey_newinc the number tested using a WHO-recommended rapid diagnostic (such as Xpert MTB/RIF) at the time of TB diagnosis (regardless of test result)\n",
      "rel_in_agesex_flg Notification 0=No; 1=Yes. Are all relapse cases included with new cases in the disaggregations by age and sex?\n",
      "ret_nrel Notification  Previously treated patients, excluding relapse cases (pulmonary or extrapulmonary, bacteriologically confirmed or clinically diagnosed)\n",
      "ret_oth Notification  Other re-treatment cases\n",
      "ret_rel Notification  Relapse cases\n",
      "ret_rel_clindx Notification  Relapse pulmonary clinically diagnosed TB cases (not bacteriologically confirmed as positive for TB, but diagnosed with active TB by a clinician or another medical practitioner who has decided to give the patient a full course of TB treatment).\n",
      "ret_rel_ep Notification  Relapse extrapulmonary cases (bacteriologically confirmed or clinically diagnosed)\n",
      "ret_rel_labconf Notification  Relapse  pulmonary bacteriologically confirmed TB cases (smear positive or culture positive or positive by WHO-recommended rapid diagnostics such as Xpert MTB/RIF).\n",
      "ret_tad Notification  Treatment after default cases\n",
      "ret_taf Notification  Treatment after failure cases\n",
      "rr_sldst Notification  Number of laboratory-confirmed RR-TB or MDR-TB cases tested for susceptibility to second-line drugs (fluoroquinolones and second-line injectable agents)\n",
      "unconf_mdr_tx Notification  Number of MDR-TB (not laboratory-confirmed) patients who started treatment for MDR-TB\n",
      "unconf_rrmdr_tx Notification  Number of patients (not laboratory-confirmed as having rifampicin-resistant (RR-TB) or multidrg-resistant TB (MDR-TB)) who started treatment for MDR-TB\n",
      "c_new_snep_tsr Outcomes  Treatment success rate for new pulmonary smear-negative/extrapulmonary/smear unknown/smear not done cases, percent  (not used after 2011)\n",
      "c_new_sp_tsr Outcomes  Treatment success rate for new pulmonary smear-positive (and/or culture-positive) cases, percent  (not used after 2011)\n",
      "c_new_tsr Outcomes  Treatment success rate for all new cases (including relapse cases if rel_with_new_flg = 1), percent\n",
      "c_ret_tsr Outcomes  Treatment success rate for re-treatment cases (excluding relapse cases if rel_with_new_flg = 1), percent\n",
      "c_tbhiv_tsr Outcomes  Treatment success rate for HIV-positive TB cases, percent\n",
      "hiv_new_snep_cmplt Outcomes  Outcomes for new pulmonary smear-negative/extrapulmonary/smear unknown/smear not done HIV-positive TB cases: completed  (not used after 2011)\n",
      "hiv_new_snep_coh Outcomes  Outcomes for new pulmonary smear-negative/extrapulmonary/smear unknown/smear not done HIV-positive TB cases: cohort size  (not used after 2011)\n",
      "hiv_new_snep_def Outcomes  Outcomes for new pulmonary smear-negative/extrapulmonary/smear unknown/smear not done HIV-positive TB cases: defaulted  (not used after 2011)\n",
      "hiv_new_snep_died Outcomes  Outcomes for new pulmonary smear-negative/extrapulmonary/smear unknown/smear not done HIV-positive TB cases: died  (not used after 2011)\n",
      "hiv_new_snep_fail Outcomes  Outcomes for new pulmonary smear-negative/extrapulmonary/smear unknown/smear not done HIV-positive TB cases: failed (not used after 2011)\n",
      "hiv_new_sp_cmplt Outcomes  Outcomes for new pulmonary smear-positive (and/or culture-positive) HIV-positive TB cases: completed (not used after 2011)\n",
      "hiv_new_sp_coh Outcomes  Outcomes for new pulmonary smear-positive (and/or culture-positive) HIV-positive TB cases: cohort size (not used after 2011)\n",
      "hiv_new_sp_cur Outcomes  Outcomes for new pulmonary smear-positive (and/or culture-positive) HIV-positive TB cases: cured (not used after 2011)\n",
      "hiv_new_sp_def Outcomes  Outcomes for new pulmonary smear-positive (and/or culture-positive) HIV-positive TB cases: defaulted (not used after 2011)\n",
      "hiv_new_sp_died Outcomes  Outcomes for new pulmonary smear-positive (and/or culture-positive) HIV-positive TB cases: died (not used after 2011)\n",
      "hiv_new_sp_fail Outcomes  Outcomes for new pulmonary smear-positive (and/or culture-positive) HIV-positive TB cases: failed (not used after 2011)\n",
      "hiv_ret_cmplt Outcomes  Outcomes for re-treatment HIV-positive TB cases: completed (not used after 2011)\n",
      "hiv_ret_coh Outcomes  Outcomes for re-treatment HIV-positive TB cases: cohort size (not used after 2011)\n",
      "hiv_ret_cur Outcomes  Outcomes for re-treatment HIV-positive TB cases: cured (not used after 2011)\n",
      "hiv_ret_def Outcomes  Outcomes for re-treatment HIV-positive TB cases: defaulted (not used after 2011)\n",
      "hiv_ret_died Outcomes  Outcomes for re-treatment HIV-positive TB cases: died (not used after 2011)\n",
      "hiv_ret_fail Outcomes  Outcomes for re-treatment HIV-positive TB cases: failed (not used after 2011)\n",
      "mdr_coh Outcomes  Outcomes for MDR-TB cases: cohort size\n",
      "mdr_died Outcomes  Outcomes for MDR-TB cases: died\n",
      "mdr_fail Outcomes  Outcomes for MDR-TB cases: treatment failed\n",
      "mdr_lost Outcomes  Outcomes for MDR-TB cases: lost to follow-up\n",
      "mdr_succ Outcomes  Outcomes for MDR-TB cases: treatment success (Cured or treatment completed)\n",
      "new_snep_cmplt Outcomes  Outcomes for new pulmonary smear-negative/extrapulmonary/smear unknown/smear not done cases: completed (not used after 2011)\n",
      "new_snep_coh Outcomes  Outcomes for new pulmonary smear-negative/extrapulmonary/smear unknown/smear not done cases: cohort size (not used after 2011)\n",
      "new_snep_def Outcomes  Outcomes for new pulmonary smear-negative/extrapulmonary/smear unknown/smear not done cases: defauled (not used after 2011)\n",
      "new_snep_died Outcomes  Outcomes for new pulmonary smear-negative/extrapulmonary/smear unknown/smear not done cases: died (not used after 2011)\n",
      "new_snep_fail Outcomes  Outcomes for new pulmonary smear-negative/extrapulmonary/smear unknown/smear not done cases: failed (not used after 2011)\n",
      "new_sp_cmplt Outcomes  Outcomes for new pulmonary smear-positive (and/or culture-positive) cases: completed (not used after 2011)\n",
      "new_sp_coh Outcomes  Outcomes for new pulmonary smear-positive (and/or culture-positive) cases: cohort size (not used after 2011)\n",
      "new_sp_cur Outcomes  Outcomes for new pulmonary smear-positive (and/or culture-positive) cases: cured (not used after 2011)\n",
      "new_sp_def Outcomes  Outcomes for new pulmonary smear-positive (and/or culture-positive) cases: defaulted (not used after 2011)\n",
      "new_sp_died Outcomes  Outcomes for new pulmonary smear-positive (and/or culture-positive) cases: died (not used after 2011)\n",
      "new_sp_fail Outcomes  Outcomes for new pulmonary smear-positive (and/or culture-positive) cases: failed (not used after 2011)\n",
      "newrel_coh Outcomes  Outcomes for all new and relapse cases (but only new cases if rel_with_new_flg = 0): cohort size\n",
      "newrel_died Outcomes  Outcomes for all new and relapse cases (but only new cases if rel_with_new_flg = 0): died\n",
      "newrel_fail Outcomes  Outcomes for all new and relapse cases (but only new cases if rel_with_new_flg = 0): treatment failed\n",
      "newrel_lost Outcomes  Outcomes for all new and relapse cases (but only new cases if rel_with_new_flg = 0): lost to follow-up\n",
      "newrel_succ Outcomes  Outcomes for all new and relapse cases (but only new cases if rel_with_new_flg = 0): treatment success (cured or treatment completed)\n",
      "rel_with_new_flg Outcomes 0=No; 1=Yes; Are outcomes of relapse cases included in the newrel outcome variables?\n",
      "rep_meth Outcomes 100=smear;101=culture;102=smear or culture; Method of confirmation used to report treatment outcomes of pulmonary cases  (not used after 2011)\n",
      "ret_cmplt Outcomes  Outcomes for re-treatment cases: completed  (not used after 2011)\n",
      "ret_coh Outcomes  Outcomes for re-treatment cases: cohort size (not used after 2011)\n",
      "ret_cur Outcomes  Outcomes for re-treatment cases: cured (not used after 2011)\n",
      "ret_def Outcomes  Outcomes for re-treatment cases: defaulted (not used after 2011)\n",
      "ret_died Outcomes  Outcomes for re-treatment cases: died (not used after 2011)\n",
      "ret_fail Outcomes  Outcomes for re-treatment cases: failed (not used after 2011)\n",
      "ret_nrel_coh Outcomes  Outcomes for previously treated patients (excluding relapse cases if rel_with_new_flg = 1): cohort size\n",
      "ret_nrel_died Outcomes  Outcomes for previously treated patients (excluding relapse cases if rel_with_new_flg = 1): died\n",
      "ret_nrel_fail Outcomes  Outcomes for previously treated patients (excluding relapse cases if rel_with_new_flg = 1): treatment failed\n",
      "ret_nrel_lost Outcomes  Outcomes for previously treated patients (excluding relapse cases if rel_with_new_flg = 1): lost to follow-up\n",
      "ret_nrel_succ Outcomes  Outcomes for previously treated patients (excluding relapse cases if rel_with_new_flg = 1): treatment success (cured or treatment completed)\n",
      "tbhiv_coh Outcomes  Outcomes for HIV-positive TB cases, all types: cohort size\n",
      "tbhiv_died Outcomes  Outcomes for HIV-positive TB cases, all types: died\n",
      "tbhiv_fail Outcomes  Outcomes for HIV-positive TB cases, all types: treatment failed\n",
      "tbhiv_lost Outcomes  Outcomes for HIV-positive TB cases, all types: lost to follow-up\n",
      "tbhiv_succ Outcomes  Outcomes for HIV-positive TB cases, all types: treatment success (cured or treatment completed)\n",
      "xdr_coh Outcomes  Outcomes for XDR-TB cases: cohort size\n",
      "xdr_died Outcomes  Outcomes for XDR-TB cases: number died\n",
      "xdr_fail Outcomes  Outcomes for XDR-TB cases: number whose treatment failed\n",
      "xdr_lost Outcomes  Outcomes for XDR-TB cases: lost to follow-up\n",
      "xdr_succ Outcomes  Outcomes for XDR-TB cases: treatment success (Cured or treatment completed)\n",
      "caseb_err_nat Policies and services 0=No; 42=Yes (all TB patients in the country); 43=Yes (but only for MDR-TB patients countrywide) Did the National Treatment Programme keep (or have access to) an electronic case-based database for TB patients on treatment at national level\n",
      "digital_adherence_support Policies and services 3=don't know; 210=Not used by any treatment centre; 211=Used only by public sector treatment centres; 212=Used only by private sector treatment centres; 213=Used by public and private  sector treatment centres Did any treatment centre use digital technologies such as short text messaging via mobile phones, video-communication or electronic medication monitors to support TB medication adherence in patients at risk of interrupting treatment?\n",
      "ep_spec_available Policies and services 0=No; 1=Yes; 2=Not applicable Are data available on the number of bacteriologically confirmed extrapulmonary TB cases with test results for the speciation of the Mycobacterium tuberculosis complex in the reporting year?\n",
      "free_dx_followup Policies and services 0=No; 1=yes Does national policy indicate that TB diagnostic and follow-up tests provided through the national TB programme are free of charge or that fees can be fully reimbursed through health insurance, or both, for all people with signs or symptoms of TB?\n",
      "hcw_tb_infected Policies and services  Number of health-care workers who had TB\n",
      "hcw_tot Policies and services  Total number of health-care workers who were working in the country in the public and private sector\n",
      "lf_urine_lam Policies and services 0=No; 1=yes Does national policy and the diagnostic algorithm indicate the use of the lateral flow urine lipoarabinomannan assay (LF-LAM) to assist in the detection of TB in people living with HIV?\n",
      "mdrxdr_fail_morphine Policies and services  Number of patients who started second-line TB treatment 3 years previously whose treatment failed and who received oral morphine by prescription to treat pain or terminal dyspnoea\n",
      "newinc_con_prevtx Policies and services  (If prevtx_data_available=60) Number of household contacts of bacteriologically-confirmed pulmonary new and relapse TB cases notified in the reporting year who were started on TB preventive treatment\n",
      "newrel_ep_labconf Policies and services  (if ep_spec_available=1) Among the new and relapse extrapulmonary TB cases reported in new_ep and ret_rel_ep, the number of cases that were bacteriologically confirmed, i.e. by culture or molecular technologies\n",
      "newrel_ep_mbovis Policies and services  (if ep_spec_available=1) Among extrapulmonary TB cases with test results for speciation reported in newrel_ep_spec, number of cases identified as having Mycobacterium bovis\n",
      "newrel_ep_spec Policies and services  (if ep_spec_available=1) Among bacteriologically confirmed extrapulmonary TB cases reported in newrel_ep_labconf, number of cases with test results for the speciation of the Mycobacterium tuberculosis complex\n",
      "newrel_pulm_mbovis Policies and services  (if pulm_spec_available=1) Among pulmonary cases with test results for speciation reported in newrel_pulm_spec, number of cases identified as having Mycobacterium bovis\n",
      "newrel_pulm_spec Policies and services  (if pulm_spec_available=1) Among bacteriologically confirmed new and relapse pulmonary TB cases, number of cases with test results for the speciation of the Mycobacterium tuberculosis complex\n",
      "prevtx_short_data_available Policies and services 0=No; 1=Yes; 2=Not applicable Are data available on the number of patients treated using shorter TB preventive treatment regimens containing rifampicin or rifapentine?\n",
      "prevtx_short_rifamycin Policies and services  (if prevtx_short_data_available=1) Total number of individuals started on shorter TB preventive treatment regimens containing rifampicin or rifapentine in the reporting year\n",
      "priv_new_dx Policies and services  Number of new cases of TB diagnosed according to National Treatment Programme (NTP)  guidelines by private providers\n",
      "ptsurvey_newinc_con_prevtx Policies and services  (If prevtx_data_available=61) Number of household contacts of the TB cases surveyed in ptsurvey_newinc who were started on TB preventive treatment.\n",
      "pub_new_dx Policies and services  Number of new cases of TB diagnosed according to National Treatment Programme (NTP)  guidelines by non-NTP public providers\n",
      "pulm_spec_available Policies and services 0=No; 1=Yes; 2=Not applicable Are data available on the number of bacteriologically confirmed pulmonary TB cases with test results for the speciation of the Mycobacterium tuberculosis complex in the reporting year?\n",
      "universal_dst Policies and services 0=No; 1=yes Does national policy and the diagnostic algorithm indicate there is universal access to drug susceptibility testing?\n",
      "wrd_initial_test Policies and services 0=No; 1=yes Does national policy and the diagnostic algorithm indicate a WHO-recommended rapid diagnostic as the initial diagnostic test for all people with signs or symptoms of TB?\n"
     ]
    }
   ],
   "source": [
    "import csv\n",
    " \n",
    "def read(file_obj):\n",
    "    reader = csv.reader(file_obj)\n",
    "    for row in reader:\n",
    "        print(\" \".join(row))\n",
    " \n",
    "if __name__ == \"__main__\":\n",
    "    csv_path = \"dictionary.csv\"\n",
    "    with open(csv_path, \"r\") as f_obj:\n",
    "        read(f_obj)"
   ]
  },
  {
   "cell_type": "markdown",
   "metadata": {},
   "source": [
    "### Задание 7. Написать функцию, принимающую 2 списка и возвращающую декартово произведение (использовать itertools.product)\n",
    "\n"
   ]
  },
  {
   "cell_type": "code",
   "execution_count": 57,
   "metadata": {},
   "outputs": [],
   "source": [
    "def get_cartesian_product(a, b):\n",
    "    d = list(itertools.product(a,b))\n",
    "    return d"
   ]
  },
  {
   "cell_type": "code",
   "execution_count": 58,
   "metadata": {},
   "outputs": [
    {
     "data": {
      "text/plain": [
       "True"
      ]
     },
     "execution_count": 58,
     "metadata": {},
     "output_type": "execute_result"
    }
   ],
   "source": [
    "import itertools\n",
    "\n",
    "get_cartesian_product([1, 2], [3, 4]) == [(1, 3), (1, 4), (2, 3), (2, 4)]"
   ]
  },
  {
   "cell_type": "markdown",
   "metadata": {},
   "source": [
    "### Задание 8. Написать функцию, принимающую строку s и число n и возвращающую всевозможные перестановки из n символов в s строке в лексикографическом(!) порядке (использовать itertools.permutations)\n"
   ]
  },
  {
   "cell_type": "code",
   "execution_count": 59,
   "metadata": {},
   "outputs": [
    {
     "name": "stdout",
     "output_type": "stream",
     "text": [
      "True ,  ['ac', 'at', 'ca', 'ct', 'ta', 'tc']\n"
     ]
    }
   ],
   "source": [
    "def getPermutations(s, n):\n",
    "    r = []\n",
    "    for item in itertools.permutations(s,n):\n",
    "        r.append(''.join(item))\n",
    "    return sorted(r)\n",
    "\n",
    "print(getPermutations(\"cat\", 2) == [\"ac\", \"at\", \"ca\", \"ct\", \"ta\", \"tc\"],', ',getPermutations(\"cat\", 2))"
   ]
  },
  {
   "cell_type": "markdown",
   "metadata": {},
   "source": [
    "### Задание 9. Реализовать функцию get_combinations. Должна принимать строку s и число k и возвращать все возможные комбинации из символов в строке s с длинами <= k (использовать itertools.combinations)"
   ]
  },
  {
   "cell_type": "code",
   "execution_count": 60,
   "metadata": {},
   "outputs": [
    {
     "name": "stdout",
     "output_type": "stream",
     "text": [
      "True ,  ['a', 'c', 't', 'ac', 'at', 'ct']\n"
     ]
    }
   ],
   "source": [
    "def getCombinations(s, k):\n",
    "    r = []\n",
    "    i = 1\n",
    "    for i in range(1,k+1):\n",
    "        n = []\n",
    "        for item in itertools.combinations(s, i):\n",
    "            n.append(\"\".join(sorted(item)))\n",
    "        n = sorted(n)\n",
    "        r += (n)\n",
    "    return r\n",
    "\n",
    "print(getCombinations(\"cat\", 2) == [\"a\", \"c\", \"t\", \"ac\", \"at\", \"ct\"],', ',getCombinations(\"cat\", 2))"
   ]
  },
  {
   "cell_type": "markdown",
   "metadata": {},
   "source": [
    "### Задание 10. Функция должна принимать строку s и число k и возвращать все возможные комбинации из символов в строке s с длинами = k с повторениями (использовать itertools.combinations_with_replacement)"
   ]
  },
  {
   "cell_type": "code",
   "execution_count": 61,
   "metadata": {},
   "outputs": [
    {
     "name": "stdout",
     "output_type": "stream",
     "text": [
      "True ,  ['aa', 'ac', 'at', 'cc', 'ct', 'tt']\n"
     ]
    }
   ],
   "source": [
    "def getCombinationsWithR(s, n):\n",
    "    r = []\n",
    "    for item in itertools.combinations_with_replacement(s,n):\n",
    "        r.append(''.join(sorted(item)))\n",
    "    return sorted(r)\n",
    "\n",
    "print(getCombinationsWithR(\"cat\", 2) == [\"aa\", \"ac\", \"at\", \"cc\", \"ct\", \"tt\"],', ',getCombinationsWithR(\"cat\", 2))"
   ]
  },
  {
   "cell_type": "markdown",
   "metadata": {},
   "source": [
    "### Задание 11. Написать функцию, которая подсчитывает количество подряд идующих символов в строке (использовать itertools.groupby)"
   ]
  },
  {
   "cell_type": "code",
   "execution_count": 62,
   "metadata": {},
   "outputs": [
    {
     "name": "stdout",
     "output_type": "stream",
     "text": [
      "True ,  [(1, 1), (3, 2), (1, 3), (2, 1)]\n"
     ]
    }
   ],
   "source": [
    "def compressString(s):\n",
    "    a = []\n",
    "    b = []\n",
    "    for key,group in itertools.groupby(s):\n",
    "        a.append(list(group))\n",
    "    for i in a:\n",
    "        b.append((i.count(i[0]), int(i[0])))\n",
    "    return b\n",
    "    \n",
    "\n",
    "print(compressString('1222311') == [(1, 1), (3, 2), (1, 3), (2, 1)],', ',compressString('1222311'))"
   ]
  },
  {
   "cell_type": "markdown",
   "metadata": {},
   "source": [
    "### Задание 12. В функцию передается список списков. Нужно вернуть максимум, который достигает выражение $(a_1^2 + a_2^2 + ... + a_n^2) % m $. Где a_i --- некоторый элемент из i-ого списка (использовать функцию из itertools)"
   ]
  },
  {
   "cell_type": "code",
   "execution_count": 63,
   "metadata": {},
   "outputs": [
    {
     "name": "stdout",
     "output_type": "stream",
     "text": [
      "True \n",
      " 206\n"
     ]
    }
   ],
   "source": [
    "def fun(a,b,c):\n",
    "    #b = 0\n",
    "    #for i in range(a):\n",
    "    #  b += a[i]**2\n",
    "    return (a**2+b**2+c**2)\n",
    "\n",
    "def maximiz(lists):\n",
    "    a = []\n",
    "    for i in itertools.product(lists[0],lists[1],lists[2]):    \n",
    "        a.append(i)\n",
    "    b = []\n",
    "    for i in itertools.starmap(fun,a):\n",
    "        b.append(i)\n",
    "    return (max(b))\n",
    "    #for item in itertools.starmap(fun, a):\n",
    "    #    return item\n",
    "    \n",
    "    \n",
    "\n",
    "lists = [ [5, 4], [7, 8, 9], [5, 7, 8, 9, 10]]\n",
    "\n",
    "#maximize(lists, m=1000) == 206\n",
    "print(maximiz(lists) == 206, '\\n', maximiz(lists))"
   ]
  },
  {
   "cell_type": "markdown",
   "metadata": {},
   "source": [
    "### Задание 13. Напишите не самую лучшую версию вычисления чисел Фибоначчи (через рекурсию), только для демонстрации силы lru_cache."
   ]
  },
  {
   "cell_type": "code",
   "execution_count": 12,
   "metadata": {},
   "outputs": [
    {
     "name": "stdout",
     "output_type": "stream",
     "text": [
      "12\n",
      "[0, 1, 1, 2, 3, 5, 8, 13, 21, 34, 55, 89]\n"
     ]
    }
   ],
   "source": [
    "import functools\n",
    "def fib(n,fibN):\n",
    "    fibN.append(fibN[-1]+fibN[-2])\n",
    "    if len(fibN)<n:\n",
    "        fib(n,fibN)\n",
    "    else:\n",
    "        print(fibN)\n",
    "\n",
    "def fibB(n):\n",
    "    fibN = [0, 1]\n",
    "    if n<0:\n",
    "        print(\"ERROR\")\n",
    "    elif n == 0 or n == 1:\n",
    "        print(0)\n",
    "    else:\n",
    "        fib(n,fibN) \n",
    "            \n",
    "n = int(input())\n",
    "fibB(n)\n"
   ]
  },
  {
   "cell_type": "markdown",
   "metadata": {},
   "source": [
    "А теперь запустите ее с достаточно большим n с декоратором и без\n",
    "@functools.lru_cache(maxsize=128, typed=False)\n"
   ]
  },
  {
   "cell_type": "code",
   "execution_count": 14,
   "metadata": {},
   "outputs": [
    {
     "name": "stdout",
     "output_type": "stream",
     "text": [
      "12\n",
      "[0, 1, 1, 2, 3, 5, 8, 13, 21, 34, 55, 89]\n"
     ]
    }
   ],
   "source": [
    "def fib(n,fibN):\n",
    "    fibN.append(fibN[-1]+fibN[-2])\n",
    "    if len(fibN)<n:\n",
    "        fib(n,fibN)\n",
    "    else:\n",
    "        print(fibN)\n",
    "\n",
    "def fibB(n):\n",
    "    fibN = [0, 1]\n",
    "    if n<0:\n",
    "        print(\"ERROR\")\n",
    "    elif n == 0 or n == 1:\n",
    "        print(0)\n",
    "    else:\n",
    "        fib(n,fibN) \n",
    "            \n",
    "n = int(input())\n",
    "fibB(n)"
   ]
  },
  {
   "cell_type": "code",
   "execution_count": null,
   "metadata": {},
   "outputs": [],
   "source": []
  },
  {
   "cell_type": "markdown",
   "metadata": {},
   "source": [
    "Сделайте замер времени выполнения функций. Используйте time. "
   ]
  },
  {
   "cell_type": "code",
   "execution_count": 15,
   "metadata": {},
   "outputs": [
    {
     "name": "stdout",
     "output_type": "stream",
     "text": [
      "100\n",
      "[0, 1, 1, 2, 3, 5, 8, 13, 21, 34, 55, 89, 144, 233, 377, 610, 987, 1597, 2584, 4181, 6765, 10946, 17711, 28657, 46368, 75025, 121393, 196418, 317811, 514229, 832040, 1346269, 2178309, 3524578, 5702887, 9227465, 14930352, 24157817, 39088169, 63245986, 102334155, 165580141, 267914296, 433494437, 701408733, 1134903170, 1836311903, 2971215073, 4807526976, 7778742049, 12586269025, 20365011074, 32951280099, 53316291173, 86267571272, 139583862445, 225851433717, 365435296162, 591286729879, 956722026041, 1548008755920, 2504730781961, 4052739537881, 6557470319842, 10610209857723, 17167680177565, 27777890035288, 44945570212853, 72723460248141, 117669030460994, 190392490709135, 308061521170129, 498454011879264, 806515533049393, 1304969544928657, 2111485077978050, 3416454622906707, 5527939700884757, 8944394323791464, 14472334024676221, 23416728348467685, 37889062373143906, 61305790721611591, 99194853094755497, 160500643816367088, 259695496911122585, 420196140727489673, 679891637638612258, 1100087778366101931, 1779979416004714189, 2880067194370816120, 4660046610375530309, 7540113804746346429, 12200160415121876738, 19740274219868223167, 31940434634990099905, 51680708854858323072, 83621143489848422977, 135301852344706746049, 218922995834555169026]\n",
      "1.908045768737793 sec\n"
     ]
    }
   ],
   "source": [
    "import time\n",
    "\n",
    "start_time = time.time()\n",
    "\n",
    "def fib(n,fibN):\n",
    "    fibN.append(fibN[-1]+fibN[-2])\n",
    "    if len(fibN)<n:\n",
    "        fib(n,fibN)\n",
    "    else:\n",
    "        print(fibN)\n",
    "\n",
    "def fibB(n):\n",
    "    fibN = [0, 1]\n",
    "    if n<0:\n",
    "        print(\"ERROR\")\n",
    "    elif n == 0 or n == 1:\n",
    "        print(0)\n",
    "    else:\n",
    "        fib(n,fibN) \n",
    "            \n",
    "n = int(input())\n",
    "fibB(n)\n",
    "\n",
    "print(\"%s sec\" % (time.time() - start_time))"
   ]
  },
  {
   "cell_type": "code",
   "execution_count": null,
   "metadata": {},
   "outputs": [],
   "source": []
  },
  {
   "cell_type": "code",
   "execution_count": null,
   "metadata": {},
   "outputs": [],
   "source": []
  }
 ],
 "metadata": {
  "kernelspec": {
   "display_name": "Python 3",
   "language": "python",
   "name": "python3"
  },
  "language_info": {
   "codemirror_mode": {
    "name": "ipython",
    "version": 3
   },
   "file_extension": ".py",
   "mimetype": "text/x-python",
   "name": "python",
   "nbconvert_exporter": "python",
   "pygments_lexer": "ipython3",
   "version": "3.8.2"
  }
 },
 "nbformat": 4,
 "nbformat_minor": 2
}
