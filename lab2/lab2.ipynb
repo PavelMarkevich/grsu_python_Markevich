{
 "cells": [
  {
   "cell_type": "markdown",
   "metadata": {},
   "source": [
    "# Лабораторная работа 2. Обзор модулей"
   ]
  },
  {
   "cell_type": "markdown",
   "metadata": {},
   "source": [
    "Модуль содержит расширение стандартных built-in контейнеров питона, таких как dict, list, set, and tuple\n",
    "\n",
    "Зачастую ими пользоваться удобней, чем стандартными"
   ]
  },
  {
   "cell_type": "code",
   "execution_count": null,
   "metadata": {},
   "outputs": [],
   "source": [
    "from collections import defaultdict\n",
    "# Отнаследован от dict, а значит, имеет те же методы"
   ]
  },
  {
   "cell_type": "markdown",
   "metadata": {},
   "source": [
    "К примеру, нам нужно посчитать частоту чисел в массиве. Используя словарь, это можно сделать так:\n",
    "\n"
   ]
  },
  {
   "cell_type": "code",
   "execution_count": null,
   "metadata": {},
   "outputs": [],
   "source": [
    "elems = [2, 2, 4, 2, 3]\n",
    "build_in_dict = dict()\n",
    "\n",
    "for elem in elems:\n",
    "    if elem in build_in_dict:\n",
    "        build_in_dict[elem] += 1\n",
    "    else:\n",
    "        build_in_dict[elem] = 1\n",
    "\n",
    "print(build_in_dict)"
   ]
  },
  {
   "cell_type": "markdown",
   "metadata": {},
   "source": [
    "Выглядит неаккуратно - 4 строчки занимают очень простую операцию - добавление элемента. Перепишем, используя defaultdict:"
   ]
  },
  {
   "cell_type": "code",
   "execution_count": null,
   "metadata": {},
   "outputs": [],
   "source": [
    "dct = defaultdict(int)\n",
    "\n",
    "for elem in elems:\n",
    "    dct[elem] += 1\n",
    "\n",
    "print(dct)"
   ]
  },
  {
   "cell_type": "markdown",
   "metadata": {},
   "source": [
    "### Задание 1. Написать с помощью defaultdict функцию для подсчета количества различных labels для каждого цвета"
   ]
  },
  {
   "cell_type": "code",
   "execution_count": null,
   "metadata": {},
   "outputs": [],
   "source": [
    "def count_colors_labels(colors_labels):\n",
    "    raise NotImplementedError()"
   ]
  },
  {
   "cell_type": "code",
   "execution_count": null,
   "metadata": {},
   "outputs": [],
   "source": [
    "# format: list of tuples: (color, label)\n",
    "elems = [('yellow', 3), ('green', 4), ('green', 4), ('red', 2), ('green', 7), ('yellow', 4)]\n",
    "\n",
    "# check\n",
    "true_answer = {'yellow': 2, 'green': 2, 'red': 1}\n",
    "\n",
    "assert count_colors_labels(elems) == true_answer"
   ]
  },
  {
   "cell_type": "markdown",
   "metadata": {},
   "source": [
    "### Задание 2. Написать класс, с помощью которого можно создать словарь, который по умолчанию будет выдавать количество уже заведенных элементов до него"
   ]
  },
  {
   "cell_type": "code",
   "execution_count": null,
   "metadata": {},
   "outputs": [],
   "source": [
    "class StrangeClass(object):\n",
    "    pass"
   ]
  },
  {
   "cell_type": "code",
   "execution_count": null,
   "metadata": {},
   "outputs": [],
   "source": [
    "dct = defaultdict(StrangeClass())\n",
    "\n",
    "elems = [9, 3, 1, 3, 4, 10]\n",
    "\n",
    "assert [dct[elem] for elem in elems] == [0, 1, 2, 1, 3, 4]"
   ]
  },
  {
   "cell_type": "markdown",
   "metadata": {},
   "source": [
    "### Задание 3. С помощью deque написать функцию, выдающую последние n строк из файла"
   ]
  },
  {
   "cell_type": "code",
   "execution_count": null,
   "metadata": {},
   "outputs": [],
   "source": [
    "def tail(filename, n=10):\n",
    "    raise NotImplementedError()"
   ]
  },
  {
   "cell_type": "code",
   "execution_count": null,
   "metadata": {},
   "outputs": [],
   "source": [
    "# check with your file\n",
    "\n",
    "filename = ''\n",
    "last_lines = ''\n",
    "\n",
    "n = 10\n",
    "assert tail(filename, n) == last_lines"
   ]
  },
  {
   "cell_type": "markdown",
   "metadata": {},
   "source": [
    "### Задание 4. Написать функцию, выводящую наименее встречаемые элементы с помощью Counter\n"
   ]
  },
  {
   "cell_type": "code",
   "execution_count": null,
   "metadata": {},
   "outputs": [],
   "source": [
    "def get_least_common(iterable_obj, n=3):\n",
    "    raise NotImplementedError()"
   ]
  },
  {
   "cell_type": "code",
   "execution_count": null,
   "metadata": {},
   "outputs": [],
   "source": [
    "elems = [1,4,3,1,1,8,9,2,8,8,9,9]\n",
    "assert get_least_common(elems) == [2, 3, 4]"
   ]
  },
  {
   "cell_type": "markdown",
   "metadata": {},
   "source": [
    "### Задание 5. Написать класс LastUpdatedOrderedDict. Модификация относительно OrderedDict в том, чтобы при добавлении уже существующих элементов, перезаписывать их места в словаре\n"
   ]
  },
  {
   "cell_type": "code",
   "execution_count": null,
   "metadata": {},
   "outputs": [],
   "source": [
    "from collections import OrderedDict\n",
    "\n",
    "class LastUpdatedOrderedDict(OrderedDict):\n",
    "    'Store items in the order the keys were last added'"
   ]
  },
  {
   "cell_type": "code",
   "execution_count": null,
   "metadata": {},
   "outputs": [],
   "source": [
    "lud = LastUpdatedOrderedDict()\n",
    "\n",
    "elems = ['a', 'b', 'c']\n",
    "\n",
    "for elem in elems:\n",
    "    lud[elem] = 1\n",
    "\n",
    "assert list(lud) == elems\n",
    "\n",
    "lud['a'] = 1\n",
    "\n",
    "assert list(lud) == ['b', 'c', 'a']"
   ]
  },
  {
   "cell_type": "markdown",
   "metadata": {},
   "source": [
    "### Задание 6. Полностью написать функцию, считывающую работников из csv файла. Использовать модуль csv\n",
    "\n"
   ]
  },
  {
   "cell_type": "code",
   "execution_count": null,
   "metadata": {},
   "outputs": [],
   "source": [
    "def read_employees(filename):\n",
    "    raise NotImplementedError()"
   ]
  },
  {
   "cell_type": "markdown",
   "metadata": {},
   "source": [
    "### Задание 7. Написать функцию, принимающую 2 списка и возвращающую декартово произведение (использовать itertools.product)\n",
    "\n"
   ]
  },
  {
   "cell_type": "code",
   "execution_count": null,
   "metadata": {},
   "outputs": [],
   "source": [
    "import itertools\n"
   ]
  },
  {
   "cell_type": "code",
   "execution_count": null,
   "metadata": {},
   "outputs": [],
   "source": [
    "def get_cartesian_product(a, b):\n",
    "    raise RuntimeError(\"Not implemented\")\n",
    "\n",
    "get_cartesian_product([1, 2], [3, 4]) == [(1, 3), (1, 4), (2, 3), (2, 4)]"
   ]
  },
  {
   "cell_type": "markdown",
   "metadata": {},
   "source": [
    "### Задание 8. Написать функцию, принимающую строку s и число n и возвращающую всевозможные перестановки из n символов в s строке в лексикографическом(!) порядке (использовать itertools.permutations)\n"
   ]
  },
  {
   "cell_type": "code",
   "execution_count": null,
   "metadata": {},
   "outputs": [],
   "source": [
    "def get_permutations(s, n):\n",
    "    raise RuntimeError(\"Not implemented\")\n",
    "\n",
    "get_permutations(\"cat\", 2) == [\"ac\", \"at\", \"ca\", \"ct\", \"ta\", \"tc\"]"
   ]
  },
  {
   "cell_type": "markdown",
   "metadata": {},
   "source": [
    "### Задание 9. Реализовать функцию get_combinations. Должна принимать строку s и число k и возвращать все возможные комбинации из символов в строке s с длинами <= k (использовать itertools.combinations)"
   ]
  },
  {
   "cell_type": "code",
   "execution_count": null,
   "metadata": {},
   "outputs": [],
   "source": [
    "def get_combinations(s, n):\n",
    "    raise RuntimeError(\"Not implemented\")\n",
    "\n",
    "get_combinations(\"cat\", 2) == [\"a\", \"c\", \"t\", \"ac\", \"at\", \"ct\"]"
   ]
  },
  {
   "cell_type": "markdown",
   "metadata": {},
   "source": [
    "### Задание 10. Функция должна принимать строку s и число k и возвращать все возможные комбинации из символов в строке s с длинами = k с повторениями (использовать itertools.combinations_with_replacement)"
   ]
  },
  {
   "cell_type": "code",
   "execution_count": null,
   "metadata": {},
   "outputs": [],
   "source": [
    "def get_combinations_with_r(s, n):\n",
    "    raise RuntimeError(\"Not implemented\")\n",
    "\n",
    "get_combinations_with_r(\"cat\", 2) == [\"aa\", \"ac\", \"at\", \"cc\", \"ct\", \"tt\"]"
   ]
  },
  {
   "cell_type": "markdown",
   "metadata": {},
   "source": [
    "### Задание 11. Написать функцию, которая подсчитывает количество подряд идующих символов в строке (использовать itertools.groupby)"
   ]
  },
  {
   "cell_type": "code",
   "execution_count": null,
   "metadata": {},
   "outputs": [],
   "source": [
    "def compress_string(s):\n",
    "    raise RuntimeError(\"Not implemented\")\n",
    "\n",
    "compress_string('1222311') == [(1, 1), (3, 2), (1, 3), (2, 1)]"
   ]
  },
  {
   "cell_type": "markdown",
   "metadata": {},
   "source": [
    "### Задание 12. В функцию передается список списков. Нужно вернуть максимум, который достигает выражение $(a_1^2 + a_2^2 + ... + a_n^2) % m $. Где a_i --- некоторый элемент из i-ого списка (использовать функцию из itertools)"
   ]
  },
  {
   "cell_type": "code",
   "execution_count": null,
   "metadata": {},
   "outputs": [],
   "source": [
    "def maximize(lists, m):\n",
    "    raise RuntimeError(\"Not implemented\")\n",
    "\n",
    "lists = [\n",
    "    [5, 4],\n",
    "    [7, 8, 9],\n",
    "    [5, 7, 8, 9, 10]\n",
    "]\n",
    "maximize(lists, m=1000) == 206"
   ]
  },
  {
   "cell_type": "markdown",
   "metadata": {},
   "source": [
    "### Задание 13. Напишите не самую лучшую версию вычисления чисел Фибоначчи (через рекурсию), только для демонстрации силы lru_cache."
   ]
  },
  {
   "cell_type": "code",
   "execution_count": null,
   "metadata": {},
   "outputs": [],
   "source": [
    "import functools\n"
   ]
  },
  {
   "cell_type": "markdown",
   "metadata": {},
   "source": [
    "А теперь запустите ее с достаточно большим n с декоратором и без\n",
    "@functools.lru_cache(maxsize=128, typed=False)\n"
   ]
  },
  {
   "cell_type": "code",
   "execution_count": null,
   "metadata": {},
   "outputs": [],
   "source": []
  },
  {
   "cell_type": "code",
   "execution_count": null,
   "metadata": {},
   "outputs": [],
   "source": []
  },
  {
   "cell_type": "markdown",
   "metadata": {},
   "source": [
    "Сделайте замер времени выполнения функций. Используйте time. "
   ]
  },
  {
   "cell_type": "code",
   "execution_count": null,
   "metadata": {},
   "outputs": [],
   "source": []
  }
 ],
 "metadata": {
  "kernelspec": {
   "display_name": "Python 3",
   "language": "python",
   "name": "python3"
  },
  "language_info": {
   "codemirror_mode": {
    "name": "ipython",
    "version": 3
   },
   "file_extension": ".py",
   "mimetype": "text/x-python",
   "name": "python",
   "nbconvert_exporter": "python",
   "pygments_lexer": "ipython3",
   "version": "3.8.2"
  }
 },
 "nbformat": 4,
 "nbformat_minor": 2
}
